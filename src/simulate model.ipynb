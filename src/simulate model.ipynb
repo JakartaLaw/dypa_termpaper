{
 "cells": [
  {
   "cell_type": "code",
   "execution_count": 2,
   "metadata": {},
   "outputs": [],
   "source": [
    "from parameters import parameters as par\n",
    "from model import Model\n",
    "from modules.loader import Loader\n",
    "\n",
    "#import pickle"
   ]
  },
  {
   "cell_type": "code",
   "execution_count": 8,
   "metadata": {},
   "outputs": [
    {
     "name": "stdout",
     "output_type": "stream",
     "text": [
      "Solution at time step t:  89 , time is:  2019-05-15 09:13:36.666612\r"
     ]
    },
    {
     "name": "stderr",
     "output_type": "stream",
     "text": [
      "/Users/Jeppe/.local/share/virtualenvs/dypa_termpaper-laBhpRgB/lib/python3.7/site-packages/scipy/optimize/_minimize.py:761: RuntimeWarning: Method 'bounded' does not support relative tolerance in x; defaulting to absolute tolerance.\n",
      "  \"defaulting to absolute tolerance.\", RuntimeWarning)\n",
      "/Users/Jeppe/.local/share/virtualenvs/dypa_termpaper-laBhpRgB/lib/python3.7/site-packages/scipy/optimize/_minimize.py:761: RuntimeWarning: Method 'bounded' does not support relative tolerance in x; defaulting to absolute tolerance.\n",
      "  \"defaulting to absolute tolerance.\", RuntimeWarning)\n"
     ]
    },
    {
     "name": "stdout",
     "output_type": "stream",
     "text": [
      "Solution at time step t:  75 , time is:  2019-05-15 09:17:24.708616\r"
     ]
    }
   ],
   "source": [
    "V_sol, C_sol = Model().solve(par)"
   ]
  },
  {
   "cell_type": "code",
   "execution_count": 9,
   "metadata": {},
   "outputs": [],
   "source": [
    "Loader.save(V_sol, C_sol, par, file_prefix='lars')"
   ]
  },
  {
   "cell_type": "code",
   "execution_count": 10,
   "metadata": {},
   "outputs": [],
   "source": [
    "V_sol, C_sol, par_ = Loader.load(file_prefix='lars')"
   ]
  },
  {
   "cell_type": "code",
   "execution_count": 86,
   "metadata": {},
   "outputs": [],
   "source": [
    "import numpy as np\n",
    "from model import Model\n",
    "from agent import update_f, calc_a, R_tilde\n",
    "from modules.interp import Interpolate3D, Majority3D\n",
    "from modules.meshmapping import create_lookup_dict, create_mesh\n",
    "from modules.stategrid import create_statespace, create_m_grid, create_f_grid, create_p_grid\n",
    "\n",
    "class Simulator(Model):\n",
    "        \n",
    "    NUMPY_SEED = 43\n",
    "    SHOCK_SCALE = 0.1\n",
    "    KAPPA_SCALER = 1.8182\n",
    "\n",
    "    \n",
    "    @classmethod\n",
    "    def simulate(cls, V_sol, C_sol, par, n_persons=1):\n",
    "        \n",
    "        np.random.seed(cls.NUMPY_SEED)\n",
    "        timesteps =  par.max_age - par.start_age + 1\n",
    "        shocks = np.exp(np.random.normal(size=(3,timesteps,n_persons), scale=cls.SHOCK_SCALE))\n",
    "        choices = np.empty(shape=(3,timesteps,n_persons))\n",
    "        states = np.empty(shape=(3,timesteps,n_persons))\n",
    "        \n",
    "        #notes on subsetting:\n",
    "        # [variables, timestep_index (ix NOT t), person_ix]\n",
    "        \n",
    "        #letting the first state be said\n",
    "        for pix in range(n_persons):\n",
    "            states[0, 0, pix], states[1, 0, pix], states[2, 0, pix] = 100000, 0, 1\n",
    "\n",
    "        m_grid = create_m_grid(par)\n",
    "        p_grid = create_p_grid(par)\n",
    "        f_grid = create_f_grid(par)\n",
    "        statespace = create_statespace(par)\n",
    "       \n",
    "        m, f, p = 2, 0, 0 #cannot start with zero income\n",
    "        \n",
    "        for ix, t in enumerate(range(par.start_age, par.max_age + 1)):\n",
    "            \n",
    "            print(\"In period: \", t, \"ix: \", ix)\n",
    "            \n",
    "            #interpolators\n",
    "            interp_c, interp_kappa, interp_i = cls.create_interpolators(C_sol,\n",
    "                                                                        t, \n",
    "                                                                        statespace, \n",
    "                                                                        m_grid, \n",
    "                                                                        f_grid, \n",
    "                                                                        p_grid,\n",
    "                                                                        par\n",
    "                                                                       )\n",
    "                                                                        \n",
    "            \n",
    "            for person_ix in range(n_persons):\n",
    "                \n",
    "                #subsetting the persons shock\n",
    "                psi, xi, eps = shocks[:,ix,person_ix]\n",
    "                \n",
    "                #subsetting the persons states:\n",
    "                m, f, p = states[:,ix,person_ix]\n",
    "                \n",
    "                c = interp_c.interpolate(m, f, p)\n",
    "                kappa = interp_kappa.interpolate(m, f, p) \n",
    "                i = interp_i.interpolate(m, f, p)\n",
    "                \n",
    "                try:\n",
    "                    m_fut, f_fut, p_fut = cls.upd_stts(t, m, f, p, c, kappa, i, psi, xi, eps, par)\n",
    "                except:\n",
    "                    return states, choices\n",
    "                \n",
    "                states[:,ix + 1, person_ix] = m_fut, f_fut, p_fut\n",
    "                choices[:, ix, person_ix] = c, kappa, i\n",
    "                \n",
    "                \n",
    "                \n",
    "        return interp_c\n",
    "                \n",
    "    @classmethod\n",
    "    def create_interpolators(cls, C_sol, t, statespace, m_grid, f_grid, p_grid, par):\n",
    "        choices_c = C_sol[t][:,0]\n",
    "        choices_kappa = C_sol[t][:,1]\n",
    "        choices_i = C_sol[t][:,2]\n",
    "        \n",
    "        ld_c = create_lookup_dict(statespace, choices_c)\n",
    "        ld_kappa = create_lookup_dict(statespace, choices_kappa)\n",
    "        ld_i = create_lookup_dict(statespace, choices_i)\n",
    "        \n",
    "        mesh_c = create_mesh(m_grid, f_grid, p_grid, ld_c, par)\n",
    "        mesh_kappa = create_mesh(m_grid, f_grid, p_grid, ld_kappa, par)\n",
    "        mesh_i = create_mesh(m_grid, f_grid, p_grid, ld_i, par)\n",
    "        \n",
    "        interp_c = Interpolate3D(m_grid, f_grid, p_grid, mesh_c)\n",
    "        interp_kappa = Majority3D(m_grid, f_grid, p_grid, mesh_kappa, 0, 0.55)\n",
    "        interp_i = Majority3D(m_grid, f_grid, p_grid, mesh_i, 0, 1)\n",
    "        \n",
    "        return interp_c, interp_kappa, interp_i\n",
    "    \n",
    "    @classmethod\n",
    "    def upd_stts(cls, t, m, f, p, c, kappa, i, psi, xi, eps, par):\n",
    "        \n",
    "        \"Update states -> dynamic of model\"\n",
    "        f = update_f(i, f, par) # updateting to f_t+1\n",
    "        assets = calc_a(c, i, kappa, m, par)\n",
    "\n",
    "        interest_factor = R_tilde(kappa, f, par, shock=eps)\n",
    "        income = xi * (par.G * p * psi) + par.age_poly[t]\n",
    "\n",
    "        # Future state values\n",
    "        m_fut = interest_factor * assets + income\n",
    "        p_fut = par.G * p * psi\n",
    "        f_fut = np.float64(f)\n",
    "       \n",
    "        print(m - c)\n",
    "        print(assets * interest_factor)\n",
    "        #print(p, psi, par.G)\n",
    "        #print(p_fut)\n",
    "        #print(income)\n",
    "        #print(par.age_poly[t])\n",
    "        \n",
    "        return m_fut, f_fut, p_fut"
   ]
  },
  {
   "cell_type": "code",
   "execution_count": 87,
   "metadata": {},
   "outputs": [
    {
     "name": "stdout",
     "output_type": "stream",
     "text": [
      "In period:  75 ix:  0\n",
      "11628.918064293917\n",
      "11732.419121361747\n",
      "In period:  76 ix:  1\n",
      "0.00017731474508764222\n",
      "-51.621765640009826\n",
      "In period:  77 ix:  2\n",
      "-2.472182529800193e-07\n",
      "-50.06137634212311\n",
      "In period:  78 ix:  3\n",
      "-2.247357997475774e-07\n",
      "-56.260919239256644\n",
      "In period:  79 ix:  4\n",
      "-3.1860142257755797e-07\n",
      "-45.97499015077088\n",
      "In period:  80 ix:  5\n",
      "-1.6134680436152848e-07\n",
      "-55.49010011409021\n",
      "In period:  81 ix:  6\n",
      "-3.0551878182905057e-07\n",
      "-49.415579881811716\n",
      "In period:  82 ix:  7\n",
      "-2.0954954749186072e-07\n",
      "-55.99268831000395\n",
      "In period:  83 ix:  8\n",
      "-3.0971312980909715e-07\n",
      "-55.026806407973666\n",
      "In period:  84 ix:  9\n",
      "-2.920446604548488e-07\n",
      "-54.405565122243296\n",
      "In period:  85 ix:  10\n",
      "-2.8189752754315123e-07\n",
      "-53.85484243196429\n",
      "In period:  86 ix:  11\n",
      "-2.761725141908755e-07\n",
      "-58.67001097039013\n",
      "In period:  87 ix:  12\n",
      "-3.4659849035278967e-07\n",
      "-49.80706351320779\n",
      "In period:  88 ix:  13\n",
      "-2.1641442060627014e-07\n",
      "-49.86819341370827\n",
      "In period:  89 ix:  14\n",
      "-2.1802333804998852e-07\n",
      "-49.691285925326916\n",
      "In period:  90 ix:  15\n"
     ]
    }
   ],
   "source": [
    "states, choices = Simulator.simulate(V_sol, C_sol, par, 1)"
   ]
  },
  {
   "cell_type": "code",
   "execution_count": 80,
   "metadata": {},
   "outputs": [
    {
     "data": {
      "text/plain": [
       "[<matplotlib.lines.Line2D at 0x11f8dbfd0>]"
      ]
     },
     "execution_count": 80,
     "metadata": {},
     "output_type": "execute_result"
    },
    {
     "data": {
      "image/png": "[encoded data removed]",
      "text/plain": [
       "<Figure size 432x288 with 1 Axes>"
      ]
     },
     "metadata": {
      "needs_background": "light"
     },
     "output_type": "display_data"
    }
   ],
   "source": [
    "import matplotlib.pyplot as plt\n",
    "plt.plot(choices[0,:])"
   ]
  },
  {
   "cell_type": "code",
   "execution_count": 81,
   "metadata": {},
   "outputs": [
    {
     "data": {
      "text/plain": [
       "[<matplotlib.lines.Line2D at 0x11fa0e128>]"
      ]
     },
     "execution_count": 81,
     "metadata": {},
     "output_type": "execute_result"
    },
    {
     "data": {
      "image/png": "[encoded data removed]",
      "text/plain": [
       "<Figure size 432x288 with 1 Axes>"
      ]
     },
     "metadata": {
      "needs_background": "light"
     },
     "output_type": "display_data"
    }
   ],
   "source": [
    "plt.plot(states[0,:])"
   ]
  },
  {
   "cell_type": "code",
   "execution_count": null,
   "metadata": {},
   "outputs": [],
   "source": []
  },
  {
   "cell_type": "code",
   "execution_count": null,
   "metadata": {},
   "outputs": [],
   "source": []
  }
 ],
 "metadata": {
  "kernelspec": {
   "display_name": "Python 3",
   "language": "python",
   "name": "python3"
  },
  "language_info": {
   "codemirror_mode": {
    "name": "ipython",
    "version": 3
   },
   "file_extension": ".py",
   "mimetype": "text/x-python",
   "name": "python",
   "nbconvert_exporter": "python",
   "pygments_lexer": "ipython3",
   "version": "3.5.4"
  }
 },
 "nbformat": 4,
 "nbformat_minor": 2
}

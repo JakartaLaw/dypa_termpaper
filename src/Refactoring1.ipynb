{
 "cells": [
  {
   "cell_type": "code",
   "execution_count": 2,
   "metadata": {},
   "outputs": [],
   "source": [
    "from model import Model\n",
    "from parameters import parameters as par\n",
    "from modules.interp import interp_3d\n",
    "import numpy as np\n",
    "from scipy.interpolate import RegularGridInterpolator\n",
    "from numba import njit"
   ]
  },
  {
   "cell_type": "code",
   "execution_count": 2,
   "metadata": {},
   "outputs": [
    {
     "name": "stderr",
     "output_type": "stream",
     "text": [
      "/Users/Jeppe/.local/share/virtualenvs/dypa_termpaper-laBhpRgB/lib/python3.7/site-packages/scipy/optimize/_minimize.py:761: RuntimeWarning: Method 'bounded' does not support relative tolerance in x; defaulting to absolute tolerance.\n",
      "  \"defaulting to absolute tolerance.\", RuntimeWarning)\n"
     ]
    },
    {
     "name": "stdout",
     "output_type": "stream",
     "text": [
      "choicetuple(c=4.468009778628238, kappa=0.0, i=0.0)\n",
      "choicetuple(c=4.468009778628238, kappa=0.0, i=1.0)\n",
      "choicetuple(c=4.468009778628238, kappa=0.55, i=0.0)\n",
      "choicetuple(c=4.468009778628238, kappa=0.55, i=1.0)\n",
      "choicetuple(c=4.468009778628238, kappa=0.0, i=0.0)\n",
      "choicetuple(c=4.468009778628238, kappa=0.0, i=1.0)\n",
      "choicetuple(c=4.468009778628238, kappa=0.55, i=0.0)\n",
      "choicetuple(c=4.468009778628238, kappa=0.55, i=1.0)\n"
     ]
    },
    {
     "name": "stderr",
     "output_type": "stream",
     "text": [
      "/Users/Jeppe/.local/share/virtualenvs/dypa_termpaper-laBhpRgB/lib/python3.7/site-packages/scipy/optimize/_minimize.py:761: RuntimeWarning: Method 'bounded' does not support relative tolerance in x; defaulting to absolute tolerance.\n",
      "  \"defaulting to absolute tolerance.\", RuntimeWarning)\n"
     ]
    },
    {
     "name": "stdout",
     "output_type": "stream",
     "text": [
      "choicetuple(c=4.468009778628238, kappa=0.0, i=0.0)\n",
      "choicetuple(c=4.468009778628238, kappa=0.0, i=1.0)\n",
      "choicetuple(c=4.468009778628238, kappa=0.55, i=0.0)\n",
      "choicetuple(c=4.468009778628238, kappa=0.55, i=1.0)\n",
      "choicetuple(c=4.468009778628238, kappa=0.0, i=0.0)\n",
      "choicetuple(c=4.468009778628238, kappa=0.0, i=1.0)\n",
      "choicetuple(c=4.468009778628238, kappa=0.55, i=0.0)\n",
      "choicetuple(c=4.468009778628238, kappa=0.55, i=1.0)\n",
      "choicetuple(c=4.468009778628238, kappa=0.0, i=0.0)\n",
      "choicetuple(c=4.468009778628238, kappa=0.0, i=1.0)\n",
      "choicetuple(c=4.468009778628238, kappa=0.55, i=0.0)\n",
      "choicetuple(c=4.468009778628238, kappa=0.55, i=1.0)\n",
      "choicetuple(c=4.468009778628238, kappa=0.0, i=0.0)\n",
      "choicetuple(c=4.468009778628238, kappa=0.0, i=1.0)\n",
      "choicetuple(c=4.468009778628238, kappa=0.55, i=0.0)\n",
      "choicetuple(c=4.468009778628238, kappa=0.55, i=1.0)\n",
      "choicetuple(c=4.468009778628238, kappa=0.0, i=0.0)\n",
      "choicetuple(c=4.468009778628238, kappa=0.0, i=1.0)\n",
      "choicetuple(c=4.468009778628238, kappa=0.55, i=0.0)\n",
      "choicetuple(c=4.468009778628238, kappa=0.55, i=1.0)\n",
      "choicetuple(c=4.468009778628238, kappa=0.0, i=0.0)\n",
      "choicetuple(c=4.468009778628238, kappa=0.0, i=1.0)\n",
      "choicetuple(c=4.468009778628238, kappa=0.55, i=0.0)\n",
      "choicetuple(c=4.468009778628238, kappa=0.55, i=1.0)\n",
      "choicetuple(c=4.468009778628238, kappa=0.0, i=0.0)\n",
      "choicetuple(c=4.468009778628238, kappa=0.0, i=1.0)\n",
      "choicetuple(c=4.468009778628238, kappa=0.55, i=0.0)\n",
      "choicetuple(c=4.468009778628238, kappa=0.55, i=1.0)\n",
      "choicetuple(c=4.468009778628238, kappa=0.0, i=0.0)\n",
      "choicetuple(c=4.468009778628238, kappa=0.0, i=1.0)\n",
      "choicetuple(c=4.468009778628238, kappa=0.55, i=0.0)\n",
      "choicetuple(c=4.468009778628238, kappa=0.55, i=1.0)\n",
      "choicetuple(c=4.468009778628238, kappa=0.0, i=0.0)\n",
      "choicetuple(c=4.468009778628238, kappa=0.0, i=1.0)\n",
      "choicetuple(c=4.468009778628238, kappa=0.55, i=0.0)\n",
      "choicetuple(c=4.468009778628238, kappa=0.55, i=1.0)\n",
      "choicetuple(c=4.468009778628238, kappa=0.0, i=0.0)\n",
      "choicetuple(c=4.468009778628238, kappa=0.0, i=1.0)\n",
      "choicetuple(c=4.468009778628238, kappa=0.55, i=0.0)\n",
      "choicetuple(c=4.468009778628238, kappa=0.55, i=1.0)\n",
      "choicetuple(c=4.468009778628238, kappa=0.0, i=0.0)\n",
      "choicetuple(c=4.468009778628238, kappa=0.0, i=1.0)\n",
      "choicetuple(c=4.468009778628238, kappa=0.55, i=0.0)\n",
      "choicetuple(c=4.468009778628238, kappa=0.55, i=1.0)\n",
      "choicetuple(c=4.468009778628238, kappa=0.0, i=0.0)\n",
      "choicetuple(c=4.468009778628238, kappa=0.0, i=1.0)\n",
      "choicetuple(c=4.468009778628238, kappa=0.55, i=0.0)\n",
      "choicetuple(c=4.468009778628238, kappa=0.55, i=1.0)\n",
      "choicetuple(c=4.468009778628238, kappa=0.0, i=0.0)\n",
      "choicetuple(c=4.468009778628238, kappa=0.0, i=1.0)\n",
      "choicetuple(c=4.468009778628238, kappa=0.55, i=0.0)\n",
      "choicetuple(c=4.468009778628238, kappa=0.55, i=1.0)\n",
      "choicetuple(c=4.468009778628238, kappa=0.0, i=0.0)\n",
      "choicetuple(c=4.468009778628238, kappa=0.0, i=1.0)\n",
      "choicetuple(c=4.468009778628238, kappa=0.55, i=0.0)\n",
      "choicetuple(c=4.468009778628238, kappa=0.55, i=1.0)\n",
      "choicetuple(c=6301.277168229083, kappa=0.0, i=0.0)\n",
      "choicetuple(c=6301.277168229083, kappa=0.0, i=1.0)\n",
      "choicetuple(c=6301.277168229083, kappa=0.55, i=0.0)\n",
      "choicetuple(c=6301.277168229083, kappa=0.55, i=1.0)\n",
      "choicetuple(c=6301.277168229083, kappa=0.0, i=0.0)\n",
      "choicetuple(c=6301.277168229083, kappa=0.0, i=1.0)\n",
      "choicetuple(c=6301.277168229083, kappa=0.55, i=0.0)\n",
      "choicetuple(c=6301.277168229083, kappa=0.55, i=1.0)\n",
      "choicetuple(c=6301.277168229083, kappa=0.0, i=0.0)\n",
      "choicetuple(c=6301.277168229083, kappa=0.0, i=1.0)\n",
      "choicetuple(c=6301.277168229083, kappa=0.55, i=0.0)\n",
      "choicetuple(c=6301.277168229083, kappa=0.55, i=1.0)\n",
      "choicetuple(c=6301.277168229083, kappa=0.0, i=0.0)\n",
      "choicetuple(c=6301.277168229083, kappa=0.0, i=1.0)\n",
      "choicetuple(c=6301.277168229083, kappa=0.55, i=0.0)\n",
      "choicetuple(c=6301.277168229083, kappa=0.55, i=1.0)\n",
      "choicetuple(c=6301.277168229083, kappa=0.0, i=0.0)\n",
      "choicetuple(c=6301.277168229083, kappa=0.0, i=1.0)\n",
      "choicetuple(c=6301.277168229083, kappa=0.55, i=0.0)\n",
      "choicetuple(c=6301.277168229083, kappa=0.55, i=1.0)\n",
      "choicetuple(c=6301.277168229083, kappa=0.0, i=1.0)\n",
      "choicetuple(c=6301.277168229083, kappa=0.55, i=1.0)\n",
      "choicetuple(c=6301.277168229083, kappa=0.0, i=1.0)\n",
      "choicetuple(c=6301.277168229083, kappa=0.55, i=1.0)\n",
      "choicetuple(c=6301.277168229083, kappa=0.0, i=0.0)\n",
      "choicetuple(c=6301.277168229083, kappa=0.0, i=1.0)\n",
      "choicetuple(c=6301.277168229083, kappa=0.55, i=0.0)\n",
      "choicetuple(c=6301.277168229083, kappa=0.55, i=1.0)\n",
      "choicetuple(c=6301.277168229083, kappa=0.0, i=0.0)\n",
      "choicetuple(c=6301.277168229083, kappa=0.0, i=1.0)\n",
      "choicetuple(c=6301.277168229083, kappa=0.55, i=0.0)\n",
      "choicetuple(c=6301.277168229083, kappa=0.55, i=1.0)\n",
      "choicetuple(c=6301.277168229083, kappa=0.0, i=1.0)\n",
      "choicetuple(c=6301.277168229083, kappa=0.55, i=1.0)\n",
      "choicetuple(c=6301.277168229083, kappa=0.0, i=1.0)\n",
      "choicetuple(c=6301.277168229083, kappa=0.55, i=1.0)\n",
      "choicetuple(c=6301.277168229083, kappa=0.0, i=0.0)\n",
      "choicetuple(c=6301.277168229083, kappa=0.0, i=1.0)\n",
      "choicetuple(c=6301.277168229083, kappa=0.55, i=0.0)\n",
      "choicetuple(c=6301.277168229083, kappa=0.55, i=1.0)\n",
      "choicetuple(c=52723.45987828889, kappa=0.0, i=0.0)\n",
      "choicetuple(c=52723.45987828889, kappa=0.0, i=1.0)\n",
      "choicetuple(c=52723.45987828889, kappa=0.55, i=0.0)\n",
      "choicetuple(c=52723.45987828889, kappa=0.55, i=1.0)\n",
      "choicetuple(c=52723.45987828889, kappa=0.0, i=0.0)\n",
      "choicetuple(c=52723.45987828889, kappa=0.0, i=1.0)\n",
      "choicetuple(c=52723.45987828889, kappa=0.55, i=0.0)\n",
      "choicetuple(c=52723.45987828889, kappa=0.55, i=1.0)\n",
      "choicetuple(c=52723.45987828889, kappa=0.0, i=0.0)\n",
      "choicetuple(c=52723.45987828889, kappa=0.0, i=1.0)\n",
      "choicetuple(c=52723.45987828889, kappa=0.55, i=0.0)\n",
      "choicetuple(c=52723.45987828889, kappa=0.55, i=1.0)\n",
      "choicetuple(c=52723.45987828889, kappa=0.0, i=0.0)\n",
      "choicetuple(c=52723.45987828889, kappa=0.0, i=1.0)\n",
      "choicetuple(c=52723.45987828889, kappa=0.55, i=0.0)\n",
      "choicetuple(c=52723.45987828889, kappa=0.55, i=1.0)\n",
      "choicetuple(c=52723.45987828889, kappa=0.0, i=0.0)\n",
      "choicetuple(c=52723.45987828889, kappa=0.0, i=1.0)\n",
      "choicetuple(c=52723.45987828889, kappa=0.55, i=0.0)\n",
      "choicetuple(c=52723.45987828889, kappa=0.55, i=1.0)\n",
      "choicetuple(c=52723.45987828889, kappa=0.0, i=1.0)\n",
      "choicetuple(c=52723.45987828889, kappa=0.55, i=1.0)\n",
      "choicetuple(c=52723.45987828889, kappa=0.0, i=1.0)\n",
      "choicetuple(c=52723.45987828889, kappa=0.55, i=1.0)\n",
      "choicetuple(c=52723.45987828889, kappa=0.0, i=0.0)\n",
      "choicetuple(c=52723.45987828889, kappa=0.0, i=1.0)\n",
      "choicetuple(c=52723.45987828889, kappa=0.55, i=0.0)\n",
      "choicetuple(c=52723.45987828889, kappa=0.55, i=1.0)\n",
      "choicetuple(c=52723.45987828889, kappa=0.0, i=0.0)\n",
      "choicetuple(c=52723.45987828889, kappa=0.0, i=1.0)\n",
      "choicetuple(c=52723.45987828889, kappa=0.55, i=0.0)\n",
      "choicetuple(c=52723.45987828889, kappa=0.55, i=1.0)\n",
      "choicetuple(c=52723.45987828889, kappa=0.0, i=1.0)\n",
      "choicetuple(c=52723.45987828889, kappa=0.55, i=1.0)\n",
      "choicetuple(c=52723.45987828889, kappa=0.0, i=1.0)\n",
      "choicetuple(c=52723.45987828889, kappa=0.55, i=1.0)\n",
      "choicetuple(c=52723.45987828889, kappa=0.0, i=0.0)\n",
      "choicetuple(c=52723.45987828889, kappa=0.0, i=1.0)\n",
      "choicetuple(c=52723.45987828889, kappa=0.55, i=0.0)\n",
      "choicetuple(c=52723.45987828889, kappa=0.55, i=1.0)\n",
      "choicetuple(c=190983.62365904142, kappa=0.0, i=0.0)\n",
      "choicetuple(c=190983.62365904142, kappa=0.0, i=1.0)\n",
      "choicetuple(c=190983.62365904142, kappa=0.55, i=0.0)\n",
      "choicetuple(c=190983.62365904142, kappa=0.55, i=1.0)\n",
      "choicetuple(c=190983.62365904142, kappa=0.0, i=0.0)\n",
      "choicetuple(c=190983.62365904142, kappa=0.0, i=1.0)\n",
      "choicetuple(c=190983.62365904142, kappa=0.55, i=0.0)\n",
      "choicetuple(c=190983.62365904142, kappa=0.55, i=1.0)\n",
      "choicetuple(c=190983.62365904142, kappa=0.0, i=0.0)\n",
      "choicetuple(c=190983.62365904142, kappa=0.0, i=1.0)\n",
      "choicetuple(c=190983.62365904142, kappa=0.55, i=0.0)\n",
      "choicetuple(c=190983.62365904142, kappa=0.55, i=1.0)\n",
      "choicetuple(c=190983.62365904142, kappa=0.0, i=0.0)\n",
      "choicetuple(c=190983.62365904142, kappa=0.0, i=1.0)\n",
      "choicetuple(c=190983.62365904142, kappa=0.55, i=0.0)\n",
      "choicetuple(c=190983.62365904142, kappa=0.55, i=1.0)\n",
      "choicetuple(c=190983.62365904142, kappa=0.0, i=0.0)\n",
      "choicetuple(c=190983.62365904142, kappa=0.0, i=1.0)\n",
      "choicetuple(c=190983.62365904142, kappa=0.55, i=0.0)\n",
      "choicetuple(c=190983.62365904142, kappa=0.55, i=1.0)\n",
      "choicetuple(c=190983.62365904142, kappa=0.0, i=1.0)\n",
      "choicetuple(c=190983.62365904142, kappa=0.55, i=1.0)\n",
      "choicetuple(c=190983.62365904142, kappa=0.0, i=1.0)\n",
      "choicetuple(c=190983.62365904142, kappa=0.55, i=1.0)\n",
      "choicetuple(c=190983.62365904142, kappa=0.0, i=0.0)\n",
      "choicetuple(c=190983.62365904142, kappa=0.0, i=1.0)\n",
      "choicetuple(c=190983.62365904142, kappa=0.55, i=0.0)\n",
      "choicetuple(c=190983.62365904142, kappa=0.55, i=1.0)\n"
     ]
    },
    {
     "name": "stdout",
     "output_type": "stream",
     "text": [
      "choicetuple(c=190983.62365904142, kappa=0.0, i=0.0)\n",
      "choicetuple(c=190983.62365904142, kappa=0.0, i=1.0)\n",
      "choicetuple(c=190983.62365904142, kappa=0.55, i=0.0)\n",
      "choicetuple(c=190983.62365904142, kappa=0.55, i=1.0)\n",
      "choicetuple(c=190983.62365904142, kappa=0.0, i=1.0)\n",
      "choicetuple(c=190983.62365904142, kappa=0.55, i=1.0)\n",
      "choicetuple(c=190983.62365904142, kappa=0.0, i=1.0)\n",
      "choicetuple(c=190983.62365904142, kappa=0.55, i=1.0)\n",
      "choicetuple(c=190983.62365904142, kappa=0.0, i=0.0)\n",
      "choicetuple(c=190983.62365904142, kappa=0.0, i=1.0)\n",
      "choicetuple(c=190983.62365904142, kappa=0.55, i=0.0)\n",
      "choicetuple(c=190983.62365904142, kappa=0.55, i=1.0)\n"
     ]
    },
    {
     "data": {
      "text/plain": [
       "({90: array([15.04169525, 15.04169525, 15.04169525, 15.04169525, 15.04169525,\n",
       "         15.04169525, 15.04169525, 15.04169525, 15.04169525, 15.04169525,\n",
       "         15.04169525, 15.04169525, 15.04169525, 15.04169525, 15.04169525,\n",
       "         15.04169525, 20.22339078, 20.22339078, 20.22339078, 20.22339078,\n",
       "         20.22339078, 20.22339078, 20.22339078, 20.22339078, 20.22339078,\n",
       "         20.22339078, 20.22339078, 20.22339078, 20.22339078, 20.22339078,\n",
       "         20.22339078, 20.22339078, 22.01701847, 22.01701847, 22.01701847,\n",
       "         22.01701847, 22.01701847, 22.01701847, 22.01701847, 22.01701847,\n",
       "         22.01701847, 22.01701847, 22.01701847, 22.01701847, 22.01701847,\n",
       "         22.01701847, 22.01701847, 22.01701847, 23.18026279, 23.18026279,\n",
       "         23.18026279, 23.18026279, 23.18026279, 23.18026279, 23.18026279,\n",
       "         23.18026279, 23.18026279, 23.18026279, 23.18026279, 23.18026279,\n",
       "         23.18026279, 23.18026279, 23.18026279, 23.18026279]),\n",
       "  89: array([15.04169521, 15.04169521, 15.04169521, 15.04169521, 15.04169521,\n",
       "         15.04169521, 15.04169521, 15.04169521, 15.04169521, 15.04169521,\n",
       "         15.04169521, 15.04169521, 15.04169521, 15.04169521, 15.04169521,\n",
       "         15.04169521, 20.22339076, 20.22339076, 20.22339076, 20.22339076,\n",
       "         20.22339076, 20.22339076, 20.22339076, 20.22339076, 20.22339076,\n",
       "         20.22339076, 20.22339076, 20.22339076, 20.22339076, 20.22339076,\n",
       "         20.22339076, 20.22339076, 22.01701845, 22.01701845, 22.01701845,\n",
       "         22.01701845, 22.01701845, 22.01701845, 22.01701845, 22.01701845,\n",
       "         22.01701845, 22.01701845, 22.01701845, 22.01701845, 22.01701845,\n",
       "         22.01701845, 22.01701845, 22.01701845, 23.18026278, 23.18026278,\n",
       "         23.18026278, 23.18026278, 23.18026278, 23.18026278, 23.18026278,\n",
       "         23.18026278, 23.18026278, 23.18026278, 23.18026278, 23.18026278,\n",
       "         23.18026278, 23.18026278, 23.18026278, 23.18026278]),\n",
       "  88: array([       -inf,        -inf,        -inf,        -inf,        -inf,\n",
       "                -inf,        -inf,        -inf,        -inf,        -inf,\n",
       "                -inf,        -inf,        -inf,        -inf,        -inf,\n",
       "                -inf,        -inf, 21.42604627, 21.42638485,        -inf,\n",
       "                -inf, 21.42604627, 21.42638485,        -inf,        -inf,\n",
       "         21.42604627, 21.42638485,        -inf,        -inf, 21.42604627,\n",
       "         21.42638485,        -inf,        -inf, 23.52305999, 23.5231099 ,\n",
       "                -inf,        -inf, 23.52305999, 23.5231099 ,        -inf,\n",
       "                -inf, 23.52305999, 23.5231099 ,        -inf,        -inf,\n",
       "         23.52305999, 23.5231099 ,        -inf,        -inf, 24.76704252,\n",
       "         24.76705572,        -inf,        -inf, 24.76704252, 24.76705572,\n",
       "                -inf,        -inf, 24.76704252, 24.76705572,        -inf,\n",
       "                -inf, 24.76704252, 24.76705572,        -inf])},\n",
       " {90: array([[1.00793675e+01, 0.00000000e+00, 0.00000000e+00],\n",
       "         [1.00793675e+01, 0.00000000e+00, 0.00000000e+00],\n",
       "         [1.00793675e+01, 0.00000000e+00, 0.00000000e+00],\n",
       "         [1.00793675e+01, 0.00000000e+00, 0.00000000e+00],\n",
       "         [1.00793675e+01, 0.00000000e+00, 0.00000000e+00],\n",
       "         [1.00793675e+01, 0.00000000e+00, 0.00000000e+00],\n",
       "         [1.00793675e+01, 0.00000000e+00, 0.00000000e+00],\n",
       "         [1.00793675e+01, 0.00000000e+00, 0.00000000e+00],\n",
       "         [1.00793675e+01, 0.00000000e+00, 0.00000000e+00],\n",
       "         [1.00793675e+01, 0.00000000e+00, 0.00000000e+00],\n",
       "         [1.00793675e+01, 0.00000000e+00, 0.00000000e+00],\n",
       "         [1.00793675e+01, 0.00000000e+00, 0.00000000e+00],\n",
       "         [1.00793675e+01, 0.00000000e+00, 0.00000000e+00],\n",
       "         [1.00793675e+01, 0.00000000e+00, 0.00000000e+00],\n",
       "         [1.00793675e+01, 0.00000000e+00, 0.00000000e+00],\n",
       "         [1.00793675e+01, 0.00000000e+00, 0.00000000e+00],\n",
       "         [1.64953398e+04, 0.00000000e+00, 0.00000000e+00],\n",
       "         [1.64953398e+04, 0.00000000e+00, 0.00000000e+00],\n",
       "         [1.64953398e+04, 0.00000000e+00, 0.00000000e+00],\n",
       "         [1.64953398e+04, 0.00000000e+00, 0.00000000e+00],\n",
       "         [1.64953398e+04, 0.00000000e+00, 0.00000000e+00],\n",
       "         [1.64953398e+04, 0.00000000e+00, 0.00000000e+00],\n",
       "         [1.64953398e+04, 0.00000000e+00, 0.00000000e+00],\n",
       "         [1.64953398e+04, 0.00000000e+00, 0.00000000e+00],\n",
       "         [1.64953398e+04, 0.00000000e+00, 0.00000000e+00],\n",
       "         [1.64953398e+04, 0.00000000e+00, 0.00000000e+00],\n",
       "         [1.64953398e+04, 0.00000000e+00, 0.00000000e+00],\n",
       "         [1.64953398e+04, 0.00000000e+00, 0.00000000e+00],\n",
       "         [1.64953398e+04, 0.00000000e+00, 0.00000000e+00],\n",
       "         [1.64953398e+04, 0.00000000e+00, 0.00000000e+00],\n",
       "         [1.64953398e+04, 0.00000000e+00, 0.00000000e+00],\n",
       "         [1.64953398e+04, 0.00000000e+00, 0.00000000e+00],\n",
       "         [1.38030192e+05, 0.00000000e+00, 0.00000000e+00],\n",
       "         [1.38030192e+05, 0.00000000e+00, 0.00000000e+00],\n",
       "         [1.38030192e+05, 0.00000000e+00, 0.00000000e+00],\n",
       "         [1.38030192e+05, 0.00000000e+00, 0.00000000e+00],\n",
       "         [1.38030192e+05, 0.00000000e+00, 0.00000000e+00],\n",
       "         [1.38030192e+05, 0.00000000e+00, 0.00000000e+00],\n",
       "         [1.38030192e+05, 0.00000000e+00, 0.00000000e+00],\n",
       "         [1.38030192e+05, 0.00000000e+00, 0.00000000e+00],\n",
       "         [1.38030192e+05, 0.00000000e+00, 0.00000000e+00],\n",
       "         [1.38030192e+05, 0.00000000e+00, 0.00000000e+00],\n",
       "         [1.38030192e+05, 0.00000000e+00, 0.00000000e+00],\n",
       "         [1.38030192e+05, 0.00000000e+00, 0.00000000e+00],\n",
       "         [1.38030192e+05, 0.00000000e+00, 0.00000000e+00],\n",
       "         [1.38030192e+05, 0.00000000e+00, 0.00000000e+00],\n",
       "         [1.38030192e+05, 0.00000000e+00, 0.00000000e+00],\n",
       "         [1.38030192e+05, 0.00000000e+00, 0.00000000e+00],\n",
       "         [5.00000000e+05, 0.00000000e+00, 0.00000000e+00],\n",
       "         [5.00000000e+05, 0.00000000e+00, 0.00000000e+00],\n",
       "         [5.00000000e+05, 0.00000000e+00, 0.00000000e+00],\n",
       "         [5.00000000e+05, 0.00000000e+00, 0.00000000e+00],\n",
       "         [5.00000000e+05, 0.00000000e+00, 0.00000000e+00],\n",
       "         [5.00000000e+05, 0.00000000e+00, 0.00000000e+00],\n",
       "         [5.00000000e+05, 0.00000000e+00, 0.00000000e+00],\n",
       "         [5.00000000e+05, 0.00000000e+00, 0.00000000e+00],\n",
       "         [5.00000000e+05, 0.00000000e+00, 0.00000000e+00],\n",
       "         [5.00000000e+05, 0.00000000e+00, 0.00000000e+00],\n",
       "         [5.00000000e+05, 0.00000000e+00, 0.00000000e+00],\n",
       "         [5.00000000e+05, 0.00000000e+00, 0.00000000e+00],\n",
       "         [5.00000000e+05, 0.00000000e+00, 0.00000000e+00],\n",
       "         [5.00000000e+05, 0.00000000e+00, 0.00000000e+00],\n",
       "         [5.00000000e+05, 0.00000000e+00, 0.00000000e+00],\n",
       "         [5.00000000e+05, 0.00000000e+00, 0.00000000e+00]]),\n",
       "  89: array([[1.00793668e+01, 0.00000000e+00, 0.00000000e+00],\n",
       "         [1.00793668e+01, 0.00000000e+00, 0.00000000e+00],\n",
       "         [1.00793668e+01, 0.00000000e+00, 0.00000000e+00],\n",
       "         [1.00793668e+01, 0.00000000e+00, 0.00000000e+00],\n",
       "         [1.00793668e+01, 0.00000000e+00, 0.00000000e+00],\n",
       "         [1.00793668e+01, 0.00000000e+00, 0.00000000e+00],\n",
       "         [1.00793668e+01, 0.00000000e+00, 0.00000000e+00],\n",
       "         [1.00793668e+01, 0.00000000e+00, 0.00000000e+00],\n",
       "         [1.00793668e+01, 0.00000000e+00, 0.00000000e+00],\n",
       "         [1.00793668e+01, 0.00000000e+00, 0.00000000e+00],\n",
       "         [1.00793668e+01, 0.00000000e+00, 0.00000000e+00],\n",
       "         [1.00793668e+01, 0.00000000e+00, 0.00000000e+00],\n",
       "         [1.00793668e+01, 0.00000000e+00, 0.00000000e+00],\n",
       "         [1.00793668e+01, 0.00000000e+00, 0.00000000e+00],\n",
       "         [1.00793668e+01, 0.00000000e+00, 0.00000000e+00],\n",
       "         [1.00793668e+01, 0.00000000e+00, 0.00000000e+00],\n",
       "         [1.64953395e+04, 0.00000000e+00, 0.00000000e+00],\n",
       "         [1.64953395e+04, 0.00000000e+00, 0.00000000e+00],\n",
       "         [1.64953395e+04, 0.00000000e+00, 0.00000000e+00],\n",
       "         [1.64953395e+04, 0.00000000e+00, 0.00000000e+00],\n",
       "         [1.64953395e+04, 0.00000000e+00, 0.00000000e+00],\n",
       "         [1.64953395e+04, 0.00000000e+00, 0.00000000e+00],\n",
       "         [1.64953395e+04, 0.00000000e+00, 0.00000000e+00],\n",
       "         [1.64953395e+04, 0.00000000e+00, 0.00000000e+00],\n",
       "         [1.64953395e+04, 0.00000000e+00, 0.00000000e+00],\n",
       "         [1.64953395e+04, 0.00000000e+00, 0.00000000e+00],\n",
       "         [1.64953395e+04, 0.00000000e+00, 0.00000000e+00],\n",
       "         [1.64953395e+04, 0.00000000e+00, 0.00000000e+00],\n",
       "         [1.64953395e+04, 0.00000000e+00, 0.00000000e+00],\n",
       "         [1.64953395e+04, 0.00000000e+00, 0.00000000e+00],\n",
       "         [1.64953395e+04, 0.00000000e+00, 0.00000000e+00],\n",
       "         [1.64953395e+04, 0.00000000e+00, 0.00000000e+00],\n",
       "         [1.38030190e+05, 0.00000000e+00, 0.00000000e+00],\n",
       "         [1.38030190e+05, 0.00000000e+00, 0.00000000e+00],\n",
       "         [1.38030190e+05, 0.00000000e+00, 0.00000000e+00],\n",
       "         [1.38030190e+05, 0.00000000e+00, 0.00000000e+00],\n",
       "         [1.38030190e+05, 0.00000000e+00, 0.00000000e+00],\n",
       "         [1.38030190e+05, 0.00000000e+00, 0.00000000e+00],\n",
       "         [1.38030190e+05, 0.00000000e+00, 0.00000000e+00],\n",
       "         [1.38030190e+05, 0.00000000e+00, 0.00000000e+00],\n",
       "         [1.38030190e+05, 0.00000000e+00, 0.00000000e+00],\n",
       "         [1.38030190e+05, 0.00000000e+00, 0.00000000e+00],\n",
       "         [1.38030190e+05, 0.00000000e+00, 0.00000000e+00],\n",
       "         [1.38030190e+05, 0.00000000e+00, 0.00000000e+00],\n",
       "         [1.38030190e+05, 0.00000000e+00, 0.00000000e+00],\n",
       "         [1.38030190e+05, 0.00000000e+00, 0.00000000e+00],\n",
       "         [1.38030190e+05, 0.00000000e+00, 0.00000000e+00],\n",
       "         [1.38030190e+05, 0.00000000e+00, 0.00000000e+00],\n",
       "         [4.99999992e+05, 0.00000000e+00, 0.00000000e+00],\n",
       "         [4.99999992e+05, 0.00000000e+00, 0.00000000e+00],\n",
       "         [4.99999992e+05, 0.00000000e+00, 0.00000000e+00],\n",
       "         [4.99999992e+05, 0.00000000e+00, 0.00000000e+00],\n",
       "         [4.99999992e+05, 0.00000000e+00, 0.00000000e+00],\n",
       "         [4.99999992e+05, 0.00000000e+00, 0.00000000e+00],\n",
       "         [4.99999992e+05, 0.00000000e+00, 0.00000000e+00],\n",
       "         [4.99999992e+05, 0.00000000e+00, 0.00000000e+00],\n",
       "         [4.99999992e+05, 0.00000000e+00, 0.00000000e+00],\n",
       "         [4.99999992e+05, 0.00000000e+00, 0.00000000e+00],\n",
       "         [4.99999992e+05, 0.00000000e+00, 0.00000000e+00],\n",
       "         [4.99999992e+05, 0.00000000e+00, 0.00000000e+00],\n",
       "         [4.99999992e+05, 0.00000000e+00, 0.00000000e+00],\n",
       "         [4.99999992e+05, 0.00000000e+00, 0.00000000e+00],\n",
       "         [4.99999992e+05, 0.00000000e+00, 0.00000000e+00],\n",
       "         [4.99999992e+05, 0.00000000e+00, 0.00000000e+00]]),\n",
       "  88: array([[            nan,             nan,             nan],\n",
       "         [            nan,             nan,             nan],\n",
       "         [            nan,             nan,             nan],\n",
       "         [            nan,             nan,             nan],\n",
       "         [            nan,             nan,             nan],\n",
       "         [            nan,             nan,             nan],\n",
       "         [            nan,             nan,             nan],\n",
       "         [            nan,             nan,             nan],\n",
       "         [            nan,             nan,             nan],\n",
       "         [            nan,             nan,             nan],\n",
       "         [            nan,             nan,             nan],\n",
       "         [            nan,             nan,             nan],\n",
       "         [            nan,             nan,             nan],\n",
       "         [            nan,             nan,             nan],\n",
       "         [            nan,             nan,             nan],\n",
       "         [            nan,             nan,             nan],\n",
       "         [            nan,             nan,             nan],\n",
       "         [ 16481.10860053,      0.        ,      0.        ],\n",
       "         [ 16488.04323836,      0.        ,      0.        ],\n",
       "         [            nan,             nan,             nan],\n",
       "         [            nan,             nan,             nan],\n",
       "         [ 16481.10860053,      0.        ,      0.        ],\n",
       "         [ 16488.04323836,      0.        ,      0.        ],\n",
       "         [            nan,             nan,             nan],\n",
       "         [            nan,             nan,             nan],\n",
       "         [ 16481.10860053,      0.        ,      0.        ],\n",
       "         [ 16488.04323836,      0.        ,      0.        ],\n",
       "         [            nan,             nan,             nan],\n",
       "         [            nan,             nan,             nan],\n",
       "         [ 16481.10860053,      0.        ,      0.        ],\n",
       "         [ 16488.04323836,      0.        ,      0.        ],\n",
       "         [            nan,             nan,             nan],\n",
       "         [            nan,             nan,             nan],\n",
       "         [121531.4527204 ,      0.        ,      0.        ],\n",
       "         [121538.25002539,      0.        ,      0.        ],\n",
       "         [            nan,             nan,             nan],\n",
       "         [            nan,             nan,             nan],\n",
       "         [121531.4527204 ,      0.        ,      0.        ],\n",
       "         [121538.25002539,      0.        ,      0.        ],\n",
       "         [            nan,             nan,             nan],\n",
       "         [            nan,             nan,             nan],\n",
       "         [121531.45261305,      0.        ,      0.        ],\n",
       "         [121538.25002539,      0.        ,      0.        ],\n",
       "         [            nan,             nan,             nan],\n",
       "         [            nan,             nan,             nan],\n",
       "         [121531.45261305,      0.        ,      0.        ],\n",
       "         [121538.25002539,      0.        ,      0.        ],\n",
       "         [            nan,             nan,             nan],\n",
       "         [            nan,             nan,             nan],\n",
       "         [483500.50721467,      0.        ,      0.        ],\n",
       "         [483507.43648763,      0.        ,      0.        ],\n",
       "         [            nan,             nan,             nan],\n",
       "         [            nan,             nan,             nan],\n",
       "         [483500.50721467,      0.        ,      0.        ],\n",
       "         [483507.43648763,      0.        ,      0.        ],\n",
       "         [            nan,             nan,             nan],\n",
       "         [            nan,             nan,             nan],\n",
       "         [483500.50721467,      0.        ,      0.        ],\n",
       "         [483507.43648763,      0.        ,      0.        ],\n",
       "         [            nan,             nan,             nan],\n",
       "         [            nan,             nan,             nan],\n",
       "         [483500.50721467,      0.        ,      0.        ],\n",
       "         [483507.43648763,      0.        ,      0.        ],\n",
       "         [            nan,             nan,             nan]])})"
      ]
     },
     "execution_count": 2,
     "metadata": {},
     "output_type": "execute_result"
    }
   ],
   "source": [
    "m = Model()\n",
    "m.solve(par)"
   ]
  },
  {
   "cell_type": "code",
   "execution_count": 6,
   "metadata": {},
   "outputs": [],
   "source": [
    "from modules.stategrid import create_statespace\n",
    "\n",
    "s = create_statespace(par)\n",
    "m = Model()\n",
    "init_V = m.initialize_Vstar(s, par)\n",
    "interp = m.create_interp(s, init_V)\n",
    "assert interp(s[30]) ==  init_V[30]\n"
   ]
  },
  {
   "cell_type": "code",
   "execution_count": 7,
   "metadata": {},
   "outputs": [
    {
     "data": {
      "text/plain": [
       "<scipy.interpolate.interpnd.LinearNDInterpolator at 0x119ae2f60>"
      ]
     },
     "execution_count": 7,
     "metadata": {},
     "output_type": "execute_result"
    }
   ],
   "source": [
    "interp"
   ]
  },
  {
   "cell_type": "code",
   "execution_count": 8,
   "metadata": {},
   "outputs": [
    {
     "data": {
      "text/plain": [
       "array([10.07936747,  0.        , -3.33333333])"
      ]
     },
     "execution_count": 8,
     "metadata": {},
     "output_type": "execute_result"
    }
   ],
   "source": [
    "s[1]"
   ]
  },
  {
   "cell_type": "code",
   "execution_count": 16,
   "metadata": {},
   "outputs": [
    {
     "data": {
      "text/plain": [
       "array(15.04170896)"
      ]
     },
     "execution_count": 16,
     "metadata": {},
     "output_type": "execute_result"
    }
   ],
   "source": [
    "interp((10.123, 1, -1.123))"
   ]
  },
  {
   "cell_type": "code",
   "execution_count": 15,
   "metadata": {},
   "outputs": [
    {
     "data": {
      "text/plain": [
       "array([10.07936747,  0.        , -3.33333333])"
      ]
     },
     "execution_count": 15,
     "metadata": {},
     "output_type": "execute_result"
    }
   ],
   "source": [
    "s[1]"
   ]
  },
  {
   "cell_type": "code",
   "execution_count": 101,
   "metadata": {},
   "outputs": [],
   "source": [
    "m, f, p = s[:, 0], s[:, 1], s[:, 2]"
   ]
  },
  {
   "cell_type": "code",
   "execution_count": 31,
   "metadata": {},
   "outputs": [
    {
     "data": {
      "text/plain": [
       "array([15.04169525, 15.04169525, 15.04169525, 15.04169525, 15.04169525,\n",
       "       15.04169525, 15.04169525, 15.04169525, 15.04169525, 15.04169525,\n",
       "       15.04169525, 15.04169525, 15.04169525, 15.04169525, 15.04169525,\n",
       "       15.04169525, 20.22339078, 20.22339078, 20.22339078, 20.22339078,\n",
       "       20.22339078, 20.22339078, 20.22339078, 20.22339078, 20.22339078,\n",
       "       20.22339078, 20.22339078, 20.22339078, 20.22339078, 20.22339078,\n",
       "       20.22339078, 20.22339078, 22.01701847, 22.01701847, 22.01701847,\n",
       "       22.01701847, 22.01701847, 22.01701847, 22.01701847, 22.01701847,\n",
       "       22.01701847, 22.01701847, 22.01701847, 22.01701847, 22.01701847,\n",
       "       22.01701847, 22.01701847, 22.01701847, 23.18026279, 23.18026279,\n",
       "       23.18026279, 23.18026279, 23.18026279, 23.18026279, 23.18026279,\n",
       "       23.18026279, 23.18026279, 23.18026279, 23.18026279, 23.18026279,\n",
       "       23.18026279, 23.18026279, 23.18026279, 23.18026279])"
      ]
     },
     "execution_count": 31,
     "metadata": {},
     "output_type": "execute_result"
    }
   ],
   "source": [
    "init_V"
   ]
  },
  {
   "cell_type": "code",
   "execution_count": 33,
   "metadata": {},
   "outputs": [
    {
     "data": {
      "text/plain": [
       "64"
      ]
     },
     "execution_count": 33,
     "metadata": {},
     "output_type": "execute_result"
    }
   ],
   "source": [
    "m.size"
   ]
  },
  {
   "cell_type": "code",
   "execution_count": 41,
   "metadata": {},
   "outputs": [
    {
     "ename": "TypeError",
     "evalue": "No matching definition for argument type(s) array(float64, 1d, A), array(float64, 1d, A), array(float64, 1d, A), array(float64, 1d, C), float64, float64, float64",
     "output_type": "error",
     "traceback": [
      "\u001b[0;31m---------------------------------------------------------------------------\u001b[0m",
      "\u001b[0;31mTypeError\u001b[0m                                 Traceback (most recent call last)",
      "\u001b[0;32m<ipython-input-41-4cb74ce45f7e>\u001b[0m in \u001b[0;36m<module>\u001b[0;34m\u001b[0m\n\u001b[0;32m----> 1\u001b[0;31m \u001b[0minterp_3d\u001b[0m\u001b[0;34m(\u001b[0m\u001b[0mm\u001b[0m\u001b[0;34m,\u001b[0m \u001b[0mf\u001b[0m\u001b[0;34m,\u001b[0m \u001b[0mp\u001b[0m\u001b[0;34m,\u001b[0m \u001b[0minit_V\u001b[0m\u001b[0;34m,\u001b[0m \u001b[0;36m10.0\u001b[0m\u001b[0;34m,\u001b[0m \u001b[0;36m0.0\u001b[0m\u001b[0;34m,\u001b[0m \u001b[0;36m3.0\u001b[0m\u001b[0;34m)\u001b[0m\u001b[0;34m\u001b[0m\u001b[0;34m\u001b[0m\u001b[0m\n\u001b[0m",
      "\u001b[0;32m~/.local/share/virtualenvs/dypa_termpaper-laBhpRgB/lib/python3.7/site-packages/numba/dispatcher.py\u001b[0m in \u001b[0;36m_explain_matching_error\u001b[0;34m(self, *args, **kws)\u001b[0m\n\u001b[1;32m    463\u001b[0m         msg = (\"No matching definition for argument type(s) %s\"\n\u001b[1;32m    464\u001b[0m                % ', '.join(map(str, args)))\n\u001b[0;32m--> 465\u001b[0;31m         \u001b[0;32mraise\u001b[0m \u001b[0mTypeError\u001b[0m\u001b[0;34m(\u001b[0m\u001b[0mmsg\u001b[0m\u001b[0;34m)\u001b[0m\u001b[0;34m\u001b[0m\u001b[0;34m\u001b[0m\u001b[0m\n\u001b[0m\u001b[1;32m    466\u001b[0m \u001b[0;34m\u001b[0m\u001b[0m\n\u001b[1;32m    467\u001b[0m     \u001b[0;32mdef\u001b[0m \u001b[0m_search_new_conversions\u001b[0m\u001b[0;34m(\u001b[0m\u001b[0mself\u001b[0m\u001b[0;34m,\u001b[0m \u001b[0;34m*\u001b[0m\u001b[0margs\u001b[0m\u001b[0;34m,\u001b[0m \u001b[0;34m**\u001b[0m\u001b[0mkws\u001b[0m\u001b[0;34m)\u001b[0m\u001b[0;34m:\u001b[0m\u001b[0;34m\u001b[0m\u001b[0;34m\u001b[0m\u001b[0m\n",
      "\u001b[0;31mTypeError\u001b[0m: No matching definition for argument type(s) array(float64, 1d, A), array(float64, 1d, A), array(float64, 1d, A), array(float64, 1d, C), float64, float64, float64"
     ]
    }
   ],
   "source": [
    "interp_3d(m, f, p, init_V, 10.0, 0.0, 3.0)"
   ]
  },
  {
   "cell_type": "code",
   "execution_count": 35,
   "metadata": {},
   "outputs": [],
   "source": [
    "k = np.array(f, dtype=np.double)"
   ]
  },
  {
   "cell_type": "code",
   "execution_count": 36,
   "metadata": {},
   "outputs": [
    {
     "data": {
      "text/plain": [
       "dtype('float64')"
      ]
     },
     "execution_count": 36,
     "metadata": {},
     "output_type": "execute_result"
    }
   ],
   "source": [
    "k.dtype"
   ]
  },
  {
   "cell_type": "code",
   "execution_count": 42,
   "metadata": {},
   "outputs": [
    {
     "ename": "NameError",
     "evalue": "name 'LinearNDInterpolator' is not defined",
     "output_type": "error",
     "traceback": [
      "\u001b[0;31m---------------------------------------------------------------------------\u001b[0m",
      "\u001b[0;31mNameError\u001b[0m                                 Traceback (most recent call last)",
      "\u001b[0;32m<ipython-input-42-ac4f8fd6fb60>\u001b[0m in \u001b[0;36m<module>\u001b[0;34m\u001b[0m\n\u001b[0;32m----> 1\u001b[0;31m \u001b[0mLinearNDInterpolator\u001b[0m\u001b[0;34m(\u001b[0m\u001b[0ms\u001b[0m\u001b[0;34m,\u001b[0m \u001b[0mVstar\u001b[0m\u001b[0;34m)\u001b[0m\u001b[0;34m\u001b[0m\u001b[0;34m\u001b[0m\u001b[0m\n\u001b[0m",
      "\u001b[0;31mNameError\u001b[0m: name 'LinearNDInterpolator' is not defined"
     ]
    }
   ],
   "source": [
    "LinearNDInterpolator(s, Vstar)"
   ]
  },
  {
   "cell_type": "code",
   "execution_count": 48,
   "metadata": {},
   "outputs": [
    {
     "ename": "ValueError",
     "evalue": "There are 64 point arrays, but values has 1 dimensions",
     "output_type": "error",
     "traceback": [
      "\u001b[0;31m---------------------------------------------------------------------------\u001b[0m",
      "\u001b[0;31mValueError\u001b[0m                                Traceback (most recent call last)",
      "\u001b[0;32m<ipython-input-48-6d61545b44fa>\u001b[0m in \u001b[0;36m<module>\u001b[0;34m\u001b[0m\n\u001b[0;32m----> 1\u001b[0;31m \u001b[0mRegularGridInterpolator\u001b[0m\u001b[0;34m(\u001b[0m\u001b[0ms\u001b[0m\u001b[0;34m,\u001b[0m \u001b[0minit_V\u001b[0m\u001b[0;34m)\u001b[0m\u001b[0;34m\u001b[0m\u001b[0;34m\u001b[0m\u001b[0m\n\u001b[0m",
      "\u001b[0;32m~/.local/share/virtualenvs/dypa_termpaper-laBhpRgB/lib/python3.7/site-packages/scipy/interpolate/interpolate.py\u001b[0m in \u001b[0;36m__init__\u001b[0;34m(self, points, values, method, bounds_error, fill_value)\u001b[0m\n\u001b[1;32m   2415\u001b[0m         \u001b[0;32mif\u001b[0m \u001b[0mlen\u001b[0m\u001b[0;34m(\u001b[0m\u001b[0mpoints\u001b[0m\u001b[0;34m)\u001b[0m \u001b[0;34m>\u001b[0m \u001b[0mvalues\u001b[0m\u001b[0;34m.\u001b[0m\u001b[0mndim\u001b[0m\u001b[0;34m:\u001b[0m\u001b[0;34m\u001b[0m\u001b[0;34m\u001b[0m\u001b[0m\n\u001b[1;32m   2416\u001b[0m             raise ValueError(\"There are %d point arrays, but values has %d \"\n\u001b[0;32m-> 2417\u001b[0;31m                              \"dimensions\" % (len(points), values.ndim))\n\u001b[0m\u001b[1;32m   2418\u001b[0m \u001b[0;34m\u001b[0m\u001b[0m\n\u001b[1;32m   2419\u001b[0m         \u001b[0;32mif\u001b[0m \u001b[0mhasattr\u001b[0m\u001b[0;34m(\u001b[0m\u001b[0mvalues\u001b[0m\u001b[0;34m,\u001b[0m \u001b[0;34m'dtype'\u001b[0m\u001b[0;34m)\u001b[0m \u001b[0;32mand\u001b[0m \u001b[0mhasattr\u001b[0m\u001b[0;34m(\u001b[0m\u001b[0mvalues\u001b[0m\u001b[0;34m,\u001b[0m \u001b[0;34m'astype'\u001b[0m\u001b[0;34m)\u001b[0m\u001b[0;34m:\u001b[0m\u001b[0;34m\u001b[0m\u001b[0;34m\u001b[0m\u001b[0m\n",
      "\u001b[0;31mValueError\u001b[0m: There are 64 point arrays, but values has 1 dimensions"
     ]
    }
   ],
   "source": [
    "RegularGridInterpolator(s, init_V)"
   ]
  },
  {
   "cell_type": "code",
   "execution_count": 20,
   "metadata": {},
   "outputs": [],
   "source": [
    "def fu(x,y,z):\n",
    "    return 2 * x**3 + 3 * y**2 - z\n",
    "x = np.linspace(-1, 4, 20)\n",
    "y = np.linspace(4, 7, 20)\n",
    "z = np.linspace(7, 9, 20)\n",
    "data = fu(*np.meshgrid(x, y, z, indexing='ij', sparse=True))"
   ]
  },
  {
   "cell_type": "code",
   "execution_count": 53,
   "metadata": {},
   "outputs": [
    {
     "data": {
      "text/plain": [
       "(11, 22, 33)"
      ]
     },
     "execution_count": 53,
     "metadata": {},
     "output_type": "execute_result"
    }
   ],
   "source": [
    "data.shape"
   ]
  },
  {
   "cell_type": "code",
   "execution_count": 93,
   "metadata": {},
   "outputs": [],
   "source": [
    "my_interpolating_function = RegularGridInterpolator((x, y, z), data, fill_value=None, bounds_error=False)"
   ]
  },
  {
   "cell_type": "code",
   "execution_count": 94,
   "metadata": {},
   "outputs": [
    {
     "data": {
      "text/plain": [
       "array([22.82077562])"
      ]
     },
     "execution_count": 94,
     "metadata": {},
     "output_type": "execute_result"
    }
   ],
   "source": [
    "pts = np.array([1.1, 3.2, 8.3])\n",
    "my_interpolating_function(pts)"
   ]
  },
  {
   "cell_type": "code",
   "execution_count": 95,
   "metadata": {},
   "outputs": [],
   "source": [
    "@njit\n",
    "def some_jit_func(x, y, z):\n",
    "    my_interpolating_function(x, y, z)\n",
    "    "
   ]
  },
  {
   "cell_type": "code",
   "execution_count": 96,
   "metadata": {},
   "outputs": [
    {
     "ename": "TypingError",
     "evalue": "Failed in nopython mode pipeline (step: nopython frontend)\nUntyped global name 'my_interpolating_function': cannot determine Numba type of <class 'scipy.interpolate.interpolate.RegularGridInterpolator'>\n\nFile \"<ipython-input-95-2c58d905aa33>\", line 3:\ndef some_jit_func(x, y, z):\n    my_interpolating_function(x, y, z)\n    ^\n\nThis is not usually a problem with Numba itself but instead often caused by\nthe use of unsupported features or an issue in resolving types.\n\nTo see Python/NumPy features supported by the latest release of Numba visit:\nhttp://numba.pydata.org/numba-doc/dev/reference/pysupported.html\nand\nhttp://numba.pydata.org/numba-doc/dev/reference/numpysupported.html\n\nFor more information about typing errors and how to debug them visit:\nhttp://numba.pydata.org/numba-doc/latest/user/troubleshoot.html#my-code-doesn-t-compile\n\nIf you think your code should work with Numba, please report the error message\nand traceback, along with a minimal reproducer at:\nhttps://github.com/numba/numba/issues/new\n",
     "output_type": "error",
     "traceback": [
      "\u001b[0;31m---------------------------------------------------------------------------\u001b[0m",
      "\u001b[0;31mTypingError\u001b[0m                               Traceback (most recent call last)",
      "\u001b[0;32m<ipython-input-96-0b25f16b931a>\u001b[0m in \u001b[0;36m<module>\u001b[0;34m\u001b[0m\n\u001b[0;32m----> 1\u001b[0;31m \u001b[0msome_jit_func\u001b[0m\u001b[0;34m(\u001b[0m\u001b[0;36m2.1\u001b[0m\u001b[0;34m,\u001b[0m \u001b[0;36m2.1\u001b[0m\u001b[0;34m,\u001b[0m \u001b[0;36m3.4\u001b[0m\u001b[0;34m)\u001b[0m\u001b[0;34m\u001b[0m\u001b[0;34m\u001b[0m\u001b[0m\n\u001b[0m",
      "\u001b[0;32m~/.local/share/virtualenvs/dypa_termpaper-laBhpRgB/lib/python3.7/site-packages/numba/dispatcher.py\u001b[0m in \u001b[0;36m_compile_for_args\u001b[0;34m(self, *args, **kws)\u001b[0m\n\u001b[1;32m    348\u001b[0m                 \u001b[0me\u001b[0m\u001b[0;34m.\u001b[0m\u001b[0mpatch_message\u001b[0m\u001b[0;34m(\u001b[0m\u001b[0mmsg\u001b[0m\u001b[0;34m)\u001b[0m\u001b[0;34m\u001b[0m\u001b[0;34m\u001b[0m\u001b[0m\n\u001b[1;32m    349\u001b[0m \u001b[0;34m\u001b[0m\u001b[0m\n\u001b[0;32m--> 350\u001b[0;31m             \u001b[0merror_rewrite\u001b[0m\u001b[0;34m(\u001b[0m\u001b[0me\u001b[0m\u001b[0;34m,\u001b[0m \u001b[0;34m'typing'\u001b[0m\u001b[0;34m)\u001b[0m\u001b[0;34m\u001b[0m\u001b[0;34m\u001b[0m\u001b[0m\n\u001b[0m\u001b[1;32m    351\u001b[0m         \u001b[0;32mexcept\u001b[0m \u001b[0merrors\u001b[0m\u001b[0;34m.\u001b[0m\u001b[0mUnsupportedError\u001b[0m \u001b[0;32mas\u001b[0m \u001b[0me\u001b[0m\u001b[0;34m:\u001b[0m\u001b[0;34m\u001b[0m\u001b[0;34m\u001b[0m\u001b[0m\n\u001b[1;32m    352\u001b[0m             \u001b[0;31m# Something unsupported is present in the user code, add help info\u001b[0m\u001b[0;34m\u001b[0m\u001b[0;34m\u001b[0m\u001b[0;34m\u001b[0m\u001b[0m\n",
      "\u001b[0;32m~/.local/share/virtualenvs/dypa_termpaper-laBhpRgB/lib/python3.7/site-packages/numba/dispatcher.py\u001b[0m in \u001b[0;36merror_rewrite\u001b[0;34m(e, issue_type)\u001b[0m\n\u001b[1;32m    315\u001b[0m                 \u001b[0;32mraise\u001b[0m \u001b[0me\u001b[0m\u001b[0;34m\u001b[0m\u001b[0;34m\u001b[0m\u001b[0m\n\u001b[1;32m    316\u001b[0m             \u001b[0;32melse\u001b[0m\u001b[0;34m:\u001b[0m\u001b[0;34m\u001b[0m\u001b[0;34m\u001b[0m\u001b[0m\n\u001b[0;32m--> 317\u001b[0;31m                 \u001b[0mreraise\u001b[0m\u001b[0;34m(\u001b[0m\u001b[0mtype\u001b[0m\u001b[0;34m(\u001b[0m\u001b[0me\u001b[0m\u001b[0;34m)\u001b[0m\u001b[0;34m,\u001b[0m \u001b[0me\u001b[0m\u001b[0;34m,\u001b[0m \u001b[0;32mNone\u001b[0m\u001b[0;34m)\u001b[0m\u001b[0;34m\u001b[0m\u001b[0;34m\u001b[0m\u001b[0m\n\u001b[0m\u001b[1;32m    318\u001b[0m \u001b[0;34m\u001b[0m\u001b[0m\n\u001b[1;32m    319\u001b[0m         \u001b[0margtypes\u001b[0m \u001b[0;34m=\u001b[0m \u001b[0;34m[\u001b[0m\u001b[0;34m]\u001b[0m\u001b[0;34m\u001b[0m\u001b[0;34m\u001b[0m\u001b[0m\n",
      "\u001b[0;32m~/.local/share/virtualenvs/dypa_termpaper-laBhpRgB/lib/python3.7/site-packages/numba/six.py\u001b[0m in \u001b[0;36mreraise\u001b[0;34m(tp, value, tb)\u001b[0m\n\u001b[1;32m    656\u001b[0m             \u001b[0mvalue\u001b[0m \u001b[0;34m=\u001b[0m \u001b[0mtp\u001b[0m\u001b[0;34m(\u001b[0m\u001b[0;34m)\u001b[0m\u001b[0;34m\u001b[0m\u001b[0;34m\u001b[0m\u001b[0m\n\u001b[1;32m    657\u001b[0m         \u001b[0;32mif\u001b[0m \u001b[0mvalue\u001b[0m\u001b[0;34m.\u001b[0m\u001b[0m__traceback__\u001b[0m \u001b[0;32mis\u001b[0m \u001b[0;32mnot\u001b[0m \u001b[0mtb\u001b[0m\u001b[0;34m:\u001b[0m\u001b[0;34m\u001b[0m\u001b[0;34m\u001b[0m\u001b[0m\n\u001b[0;32m--> 658\u001b[0;31m             \u001b[0;32mraise\u001b[0m \u001b[0mvalue\u001b[0m\u001b[0;34m.\u001b[0m\u001b[0mwith_traceback\u001b[0m\u001b[0;34m(\u001b[0m\u001b[0mtb\u001b[0m\u001b[0;34m)\u001b[0m\u001b[0;34m\u001b[0m\u001b[0;34m\u001b[0m\u001b[0m\n\u001b[0m\u001b[1;32m    659\u001b[0m         \u001b[0;32mraise\u001b[0m \u001b[0mvalue\u001b[0m\u001b[0;34m\u001b[0m\u001b[0;34m\u001b[0m\u001b[0m\n\u001b[1;32m    660\u001b[0m \u001b[0;34m\u001b[0m\u001b[0m\n",
      "\u001b[0;31mTypingError\u001b[0m: Failed in nopython mode pipeline (step: nopython frontend)\nUntyped global name 'my_interpolating_function': cannot determine Numba type of <class 'scipy.interpolate.interpolate.RegularGridInterpolator'>\n\nFile \"<ipython-input-95-2c58d905aa33>\", line 3:\ndef some_jit_func(x, y, z):\n    my_interpolating_function(x, y, z)\n    ^\n\nThis is not usually a problem with Numba itself but instead often caused by\nthe use of unsupported features or an issue in resolving types.\n\nTo see Python/NumPy features supported by the latest release of Numba visit:\nhttp://numba.pydata.org/numba-doc/dev/reference/pysupported.html\nand\nhttp://numba.pydata.org/numba-doc/dev/reference/numpysupported.html\n\nFor more information about typing errors and how to debug them visit:\nhttp://numba.pydata.org/numba-doc/latest/user/troubleshoot.html#my-code-doesn-t-compile\n\nIf you think your code should work with Numba, please report the error message\nand traceback, along with a minimal reproducer at:\nhttps://github.com/numba/numba/issues/new\n"
     ]
    }
   ],
   "source": [
    "some_jit_func(2.1, 2.1, 3.4)"
   ]
  },
  {
   "cell_type": "code",
   "execution_count": 107,
   "metadata": {},
   "outputs": [
    {
     "data": {
      "text/plain": [
       "1365.4044321313063"
      ]
     },
     "execution_count": 107,
     "metadata": {},
     "output_type": "execute_result"
    }
   ],
   "source": [
    "data = fu(*np.meshgrid(x, y, z, indexing='ij', sparse=True))\n",
    "interp_3d(x, y, z, data, 10.0, 20.0, 3.0)"
   ]
  },
  {
   "cell_type": "code",
   "execution_count": 121,
   "metadata": {},
   "outputs": [],
   "source": [
    "@njit\n",
    "def interpolate(x, y, z, values, x_i, y_i, z_i):\n",
    "    interp = lambda x_i, y_i, z_i : interp_3d(x, y, x, values, x_i, y_i, z_i)\n",
    "    return interp"
   ]
  },
  {
   "cell_type": "code",
   "execution_count": 64,
   "metadata": {},
   "outputs": [
    {
     "ename": "TypeError",
     "evalue": "class members are not yet supported: interpolate",
     "output_type": "error",
     "traceback": [
      "\u001b[0;31m---------------------------------------------------------------------------\u001b[0m",
      "\u001b[0;31mTypeError\u001b[0m                                 Traceback (most recent call last)",
      "\u001b[0;32m<ipython-input-64-a07479735e63>\u001b[0m in \u001b[0;36m<module>\u001b[0;34m\u001b[0m\n\u001b[1;32m      9\u001b[0m \u001b[0;34m\u001b[0m\u001b[0m\n\u001b[1;32m     10\u001b[0m \u001b[0;34m@\u001b[0m\u001b[0mjitclass\u001b[0m\u001b[0;34m(\u001b[0m\u001b[0mspec\u001b[0m\u001b[0;34m)\u001b[0m\u001b[0;34m\u001b[0m\u001b[0;34m\u001b[0m\u001b[0m\n\u001b[0;32m---> 11\u001b[0;31m \u001b[0;32mclass\u001b[0m \u001b[0mInterpolate3D\u001b[0m\u001b[0;34m(\u001b[0m\u001b[0mobject\u001b[0m\u001b[0;34m)\u001b[0m\u001b[0;34m:\u001b[0m\u001b[0;34m\u001b[0m\u001b[0;34m\u001b[0m\u001b[0m\n\u001b[0m\u001b[1;32m     12\u001b[0m     \u001b[0;32mdef\u001b[0m \u001b[0m__init__\u001b[0m\u001b[0;34m(\u001b[0m\u001b[0mself\u001b[0m\u001b[0;34m,\u001b[0m \u001b[0mgrid1\u001b[0m\u001b[0;34m,\u001b[0m \u001b[0mgrid2\u001b[0m\u001b[0;34m,\u001b[0m \u001b[0mgrid3\u001b[0m\u001b[0;34m,\u001b[0m \u001b[0mvalues\u001b[0m\u001b[0;34m)\u001b[0m\u001b[0;34m:\u001b[0m\u001b[0;34m\u001b[0m\u001b[0;34m\u001b[0m\u001b[0m\n\u001b[1;32m     13\u001b[0m         \u001b[0mself\u001b[0m\u001b[0;34m.\u001b[0m\u001b[0mgrid1\u001b[0m \u001b[0;34m=\u001b[0m \u001b[0mgrid1\u001b[0m\u001b[0;34m\u001b[0m\u001b[0;34m\u001b[0m\u001b[0m\n",
      "\u001b[0;32m~/.local/share/virtualenvs/dypa_termpaper-laBhpRgB/lib/python3.7/site-packages/numba/jitclass/decorators.py\u001b[0m in \u001b[0;36mwrap\u001b[0;34m(cls)\u001b[0m\n\u001b[1;32m     25\u001b[0m             \u001b[0;32mreturn\u001b[0m \u001b[0mcls\u001b[0m\u001b[0;34m\u001b[0m\u001b[0;34m\u001b[0m\u001b[0m\n\u001b[1;32m     26\u001b[0m         \u001b[0;32melse\u001b[0m\u001b[0;34m:\u001b[0m\u001b[0;34m\u001b[0m\u001b[0;34m\u001b[0m\u001b[0m\n\u001b[0;32m---> 27\u001b[0;31m             \u001b[0;32mreturn\u001b[0m \u001b[0mregister_class_type\u001b[0m\u001b[0;34m(\u001b[0m\u001b[0mcls\u001b[0m\u001b[0;34m,\u001b[0m \u001b[0mspec\u001b[0m\u001b[0;34m,\u001b[0m \u001b[0mtypes\u001b[0m\u001b[0;34m.\u001b[0m\u001b[0mClassType\u001b[0m\u001b[0;34m,\u001b[0m \u001b[0mClassBuilder\u001b[0m\u001b[0;34m)\u001b[0m\u001b[0;34m\u001b[0m\u001b[0;34m\u001b[0m\u001b[0m\n\u001b[0m\u001b[1;32m     28\u001b[0m \u001b[0;34m\u001b[0m\u001b[0m\n\u001b[1;32m     29\u001b[0m     \u001b[0;32mreturn\u001b[0m \u001b[0mwrap\u001b[0m\u001b[0;34m\u001b[0m\u001b[0;34m\u001b[0m\u001b[0m\n",
      "\u001b[0;32m~/.local/share/virtualenvs/dypa_termpaper-laBhpRgB/lib/python3.7/site-packages/numba/jitclass/base.py\u001b[0m in \u001b[0;36mregister_class_type\u001b[0;34m(cls, spec, class_ctor, builder)\u001b[0m\n\u001b[1;32m    198\u001b[0m         \u001b[0mmsg\u001b[0m \u001b[0;34m=\u001b[0m \u001b[0;34m\"class members are not yet supported: {0}\"\u001b[0m\u001b[0;34m\u001b[0m\u001b[0;34m\u001b[0m\u001b[0m\n\u001b[1;32m    199\u001b[0m         \u001b[0mmembers\u001b[0m \u001b[0;34m=\u001b[0m \u001b[0;34m', '\u001b[0m\u001b[0;34m.\u001b[0m\u001b[0mjoin\u001b[0m\u001b[0;34m(\u001b[0m\u001b[0mothers\u001b[0m\u001b[0;34m.\u001b[0m\u001b[0mkeys\u001b[0m\u001b[0;34m(\u001b[0m\u001b[0;34m)\u001b[0m\u001b[0;34m)\u001b[0m\u001b[0;34m\u001b[0m\u001b[0;34m\u001b[0m\u001b[0m\n\u001b[0;32m--> 200\u001b[0;31m         \u001b[0;32mraise\u001b[0m \u001b[0mTypeError\u001b[0m\u001b[0;34m(\u001b[0m\u001b[0mmsg\u001b[0m\u001b[0;34m.\u001b[0m\u001b[0mformat\u001b[0m\u001b[0;34m(\u001b[0m\u001b[0mmembers\u001b[0m\u001b[0;34m)\u001b[0m\u001b[0;34m)\u001b[0m\u001b[0;34m\u001b[0m\u001b[0;34m\u001b[0m\u001b[0m\n\u001b[0m\u001b[1;32m    201\u001b[0m \u001b[0;34m\u001b[0m\u001b[0m\n\u001b[1;32m    202\u001b[0m     \u001b[0;32mfor\u001b[0m \u001b[0mk\u001b[0m\u001b[0;34m,\u001b[0m \u001b[0mv\u001b[0m \u001b[0;32min\u001b[0m \u001b[0mprops\u001b[0m\u001b[0;34m.\u001b[0m\u001b[0mitems\u001b[0m\u001b[0;34m(\u001b[0m\u001b[0;34m)\u001b[0m\u001b[0;34m:\u001b[0m\u001b[0;34m\u001b[0m\u001b[0;34m\u001b[0m\u001b[0m\n",
      "\u001b[0;31mTypeError\u001b[0m: class members are not yet supported: interpolate"
     ]
    }
   ],
   "source": [
    "from numba import int32, float64, jitclass, jit    # import the types\n",
    "\n",
    "spec = [\n",
    "    ('grid1', float64[:]),\n",
    "    ('grid2', float64[:]),\n",
    "    ('grid3', float64[:]),\n",
    "    ('values', float64[:, :, :])\n",
    "]\n",
    "\n",
    "@jitclass(spec)\n",
    "class Interpolate3D(object):\n",
    "    def __init__(self, grid1, grid2, grid3, values):\n",
    "        self.grid1 = grid1\n",
    "        self.grid2 = grid2\n",
    "        self.grid3 = grid3\n",
    "        self.values = values\n",
    "    \n",
    "    @njit\n",
    "    def interpolate(self, x_i, y_i, z_i):\n",
    "        return interp_3d(self.grid1, self.grid2, self.grid3, self.values, x_i, y_i, z_i)\n"
   ]
  },
  {
   "cell_type": "code",
   "execution_count": 26,
   "metadata": {},
   "outputs": [],
   "source": [
    "@njit\n",
    "def funcy(interp_class, x_i, y_i, z_i):\n",
    "    return interp_3d(interp_class.grid1, interp_class.grid2, interp_class.grid3, interp_class.values, x_i, y_i, z_i)\n"
   ]
  },
  {
   "cell_type": "code",
   "execution_count": 35,
   "metadata": {},
   "outputs": [],
   "source": [
    "interp = Interpolate3D(x, y, z, data)"
   ]
  },
  {
   "cell_type": "code",
   "execution_count": 41,
   "metadata": {},
   "outputs": [
    {
     "data": {
      "text/plain": [
       "15.624289254993748"
      ]
     },
     "execution_count": 41,
     "metadata": {},
     "output_type": "execute_result"
    }
   ],
   "source": [
    "interp.interpolate(1, 3, 10)"
   ]
  },
  {
   "cell_type": "code",
   "execution_count": 34,
   "metadata": {},
   "outputs": [
    {
     "name": "stdout",
     "output_type": "stream",
     "text": [
      "CPU times: user 4 µs, sys: 1e+03 ns, total: 5 µs\n",
      "Wall time: 8.11 µs\n"
     ]
    }
   ],
   "source": [
    "%time\n",
    "for i in range(100000):\n",
    "    res = funcy(interp, 2, 2, 4)"
   ]
  },
  {
   "cell_type": "code",
   "execution_count": 192,
   "metadata": {},
   "outputs": [],
   "source": [
    "@njit\n",
    "def lars(x, y):\n",
    "    f = lambda x: x + y"
   ]
  },
  {
   "cell_type": "code",
   "execution_count": 209,
   "metadata": {},
   "outputs": [],
   "source": [
    "@njit\n",
    "def test1(x, y, z, vgrid):\n",
    "    for i in range(1):\n",
    "        x_i, y_i, z_i = -8, -2, 4\n",
    "        res = interp_3d(x, y, z, vgrid, x_i, y_i, z_i)\n",
    "        print(res)\n",
    "    \n",
    "my_interpolating_function = RegularGridInterpolator((x, y, z), data, fill_value=None, bounds_error=False)\n",
    "@jit\n",
    "def test2():\n",
    "    for i in range(1):\n",
    "        x_i, y_i, z_i = -8, -2, 4\n",
    "        res = my_interpolating_function(np.array([x_i, y_i, z_i]))\n",
    "        print(res)"
   ]
  },
  {
   "cell_type": "code",
   "execution_count": 210,
   "metadata": {},
   "outputs": [
    {
     "name": "stdout",
     "output_type": "stream",
     "text": [
      "-136.75900276991177\n",
      "CPU times: user 159 ms, sys: 4.7 ms, total: 163 ms\n",
      "Wall time: 165 ms\n"
     ]
    }
   ],
   "source": [
    "%%time\n",
    "test1(x, y, z, data)"
   ]
  },
  {
   "cell_type": "code",
   "execution_count": 211,
   "metadata": {},
   "outputs": [
    {
     "name": "stdout",
     "output_type": "stream",
     "text": [
      "[-136.75900277]\n",
      "CPU times: user 203 ms, sys: 6.35 ms, total: 209 ms\n",
      "Wall time: 214 ms\n"
     ]
    }
   ],
   "source": [
    "%%time\n",
    "test2()"
   ]
  },
  {
   "cell_type": "code",
   "execution_count": 213,
   "metadata": {},
   "outputs": [],
   "source": [
    "m, f, p = s[:, 0], s[:, 1], s[:, 2]\n",
    "\n",
    "\n",
    "@njit\n",
    "def test1(x, y, z, vgrid):\n",
    "    for i in range(1):\n",
    "        x_i, y_i, z_i = -8, -2, 4\n",
    "        res = interp_3d(x, y, z, vgrid, x_i, y_i, z_i)\n",
    "        print(res)\n",
    "    \n",
    "my_interpolating_function = RegularGridInterpolator((x, y, z), data, fill_value=None, bounds_error=False)\n",
    "@jit\n",
    "def test2():\n",
    "    for i in range(1):\n",
    "        x_i, y_i, z_i = -8, -2, 4\n",
    "        res = my_interpolating_function(np.array([x_i, y_i, z_i]))\n",
    "        print(res)"
   ]
  },
  {
   "cell_type": "code",
   "execution_count": null,
   "metadata": {},
   "outputs": [],
   "source": []
  },
  {
   "cell_type": "code",
   "execution_count": null,
   "metadata": {},
   "outputs": [],
   "source": []
  },
  {
   "cell_type": "code",
   "execution_count": 215,
   "metadata": {},
   "outputs": [
    {
     "data": {
      "text/plain": [
       "array([-10.        ,  -3.33333333,   3.33333333,  10.        ,\n",
       "       -10.        ,  -3.33333333,   3.33333333,  10.        ,\n",
       "       -10.        ,  -3.33333333,   3.33333333,  10.        ,\n",
       "       -10.        ,  -3.33333333,   3.33333333,  10.        ,\n",
       "       -10.        ,  -3.33333333,   3.33333333,  10.        ,\n",
       "       -10.        ,  -3.33333333,   3.33333333,  10.        ,\n",
       "       -10.        ,  -3.33333333,   3.33333333,  10.        ,\n",
       "       -10.        ,  -3.33333333,   3.33333333,  10.        ,\n",
       "       -10.        ,  -3.33333333,   3.33333333,  10.        ,\n",
       "       -10.        ,  -3.33333333,   3.33333333,  10.        ,\n",
       "       -10.        ,  -3.33333333,   3.33333333,  10.        ,\n",
       "       -10.        ,  -3.33333333,   3.33333333,  10.        ,\n",
       "       -10.        ,  -3.33333333,   3.33333333,  10.        ,\n",
       "       -10.        ,  -3.33333333,   3.33333333,  10.        ,\n",
       "       -10.        ,  -3.33333333,   3.33333333,  10.        ,\n",
       "       -10.        ,  -3.33333333,   3.33333333,  10.        ])"
      ]
     },
     "execution_count": 215,
     "metadata": {},
     "output_type": "execute_result"
    }
   ],
   "source": [
    "p"
   ]
  },
  {
   "cell_type": "code",
   "execution_count": 69,
   "metadata": {},
   "outputs": [],
   "source": [
    "a, b, c = np.linspace(10,20), np.linspace(0, 10), np.linspace(20, 30 ,num=20)"
   ]
  },
  {
   "cell_type": "code",
   "execution_count": 10,
   "metadata": {},
   "outputs": [],
   "source": [
    "h = np.meshgrid(a, b)"
   ]
  },
  {
   "cell_type": "code",
   "execution_count": 11,
   "metadata": {},
   "outputs": [],
   "source": [
    "def func(a, b):\n",
    "    return a * b - b"
   ]
  },
  {
   "cell_type": "code",
   "execution_count": 14,
   "metadata": {},
   "outputs": [
    {
     "data": {
      "text/plain": [
       "(50, 50)"
      ]
     },
     "execution_count": 14,
     "metadata": {},
     "output_type": "execute_result"
    }
   ],
   "source": [
    "func(*h)"
   ]
  },
  {
   "cell_type": "code",
   "execution_count": 42,
   "metadata": {},
   "outputs": [],
   "source": [
    "from collections import namedtuple"
   ]
  },
  {
   "cell_type": "code",
   "execution_count": 43,
   "metadata": {},
   "outputs": [],
   "source": [
    "nt = namedtuple('nt', ['a', 'b'])"
   ]
  },
  {
   "cell_type": "code",
   "execution_count": 53,
   "metadata": {},
   "outputs": [],
   "source": [
    "hh = nt(1, 2)\n",
    "hh2 = (1, 2)"
   ]
  },
  {
   "cell_type": "code",
   "execution_count": 62,
   "metadata": {},
   "outputs": [],
   "source": [
    "@njit\n",
    "def solve_fast(t1, t2):\n",
    "    return t1 + t2"
   ]
  },
  {
   "cell_type": "code",
   "execution_count": 63,
   "metadata": {},
   "outputs": [
    {
     "data": {
      "text/plain": [
       "3"
      ]
     },
     "execution_count": 63,
     "metadata": {},
     "output_type": "execute_result"
    }
   ],
   "source": [
    "solve_fast(1, 2)"
   ]
  },
  {
   "cell_type": "code",
   "execution_count": 86,
   "metadata": {},
   "outputs": [],
   "source": [
    "def utility(c, par):\n",
    "    return c**(1/2)\n",
    "\n",
    "def T_max_utility(m, f, p, par):\n",
    "    return utility(m, t, par)"
   ]
  },
  {
   "cell_type": "code",
   "execution_count": 87,
   "metadata": {},
   "outputs": [],
   "source": [
    "res = T_max_utility(*np.meshgrid(a, b, c, indexing='ij'), par=par)"
   ]
  },
  {
   "cell_type": "code",
   "execution_count": 83,
   "metadata": {},
   "outputs": [
    {
     "data": {
      "text/plain": [
       "(50, 50, 20)"
      ]
     },
     "execution_count": 83,
     "metadata": {},
     "output_type": "execute_result"
    }
   ],
   "source": []
  },
  {
   "cell_type": "code",
   "execution_count": 73,
   "metadata": {},
   "outputs": [],
   "source": [
    "from functools import partial"
   ]
  },
  {
   "cell_type": "code",
   "execution_count": null,
   "metadata": {},
   "outputs": [],
   "source": [
    "partial()"
   ]
  }
 ],
 "metadata": {
  "kernelspec": {
   "display_name": "Python 3 (dypa-termpaper)",
   "language": "python",
   "name": "dypatermpaper"
  },
  "language_info": {
   "codemirror_mode": {
    "name": "ipython",
    "version": 3
   },
   "file_extension": ".py",
   "mimetype": "text/x-python",
   "name": "python",
   "nbconvert_exporter": "python",
   "pygments_lexer": "ipython3",
   "version": "3.7.2"
  }
 },
 "nbformat": 4,
 "nbformat_minor": 2
}

{
 "cells": [
  {
   "cell_type": "code",
   "execution_count": 1,
   "metadata": {},
   "outputs": [],
   "source": [
    "from model import Model\n",
    "from parameters import parameters as par\n",
    "from modules.interp import interp_3d\n",
    "import numpy as np\n",
    "from scipy.interpolate import RegularGridInterpolator\n",
    "from numba import njit\n",
    "from scipy.optimize import minimize"
   ]
  },
  {
   "cell_type": "code",
   "execution_count": 2,
   "metadata": {},
   "outputs": [
    {
     "ename": "NameError",
     "evalue": "name 'create_statespace' is not defined",
     "output_type": "error",
     "traceback": [
      "\u001b[0;31m---------------------------------------------------------------------------\u001b[0m",
      "\u001b[0;31mNameError\u001b[0m                                 Traceback (most recent call last)",
      "\u001b[0;32m<ipython-input-2-7e200424b7f1>\u001b[0m in \u001b[0;36m<module>\u001b[0;34m\u001b[0m\n\u001b[1;32m      1\u001b[0m \u001b[0mm\u001b[0m \u001b[0;34m=\u001b[0m \u001b[0mModel\u001b[0m\u001b[0;34m(\u001b[0m\u001b[0;34m)\u001b[0m\u001b[0;34m\u001b[0m\u001b[0;34m\u001b[0m\u001b[0m\n\u001b[0;32m----> 2\u001b[0;31m \u001b[0mm\u001b[0m\u001b[0;34m.\u001b[0m\u001b[0msolve\u001b[0m\u001b[0;34m(\u001b[0m\u001b[0mpar\u001b[0m\u001b[0;34m)\u001b[0m\u001b[0;34m\u001b[0m\u001b[0;34m\u001b[0m\u001b[0m\n\u001b[0m",
      "\u001b[0;32m~/Projects/dypa_termpaper/src/model.py\u001b[0m in \u001b[0;36msolve\u001b[0;34m(self, par)\u001b[0m\n\u001b[1;32m    139\u001b[0m     \u001b[0;32mdef\u001b[0m \u001b[0msolve\u001b[0m\u001b[0;34m(\u001b[0m\u001b[0mself\u001b[0m\u001b[0;34m,\u001b[0m \u001b[0mpar\u001b[0m\u001b[0;34m)\u001b[0m\u001b[0;34m:\u001b[0m\u001b[0;34m\u001b[0m\u001b[0;34m\u001b[0m\u001b[0m\n\u001b[1;32m    140\u001b[0m         \u001b[0;31m# create state_space grid values. order (m, f, p)\u001b[0m\u001b[0;34m\u001b[0m\u001b[0;34m\u001b[0m\u001b[0;34m\u001b[0m\u001b[0m\n\u001b[0;32m--> 141\u001b[0;31m         \u001b[0mstatespace\u001b[0m \u001b[0;34m=\u001b[0m \u001b[0mcreate_statespace\u001b[0m\u001b[0;34m(\u001b[0m\u001b[0mpar\u001b[0m\u001b[0;34m)\u001b[0m\u001b[0;34m\u001b[0m\u001b[0;34m\u001b[0m\u001b[0m\n\u001b[0m\u001b[1;32m    142\u001b[0m \u001b[0;34m\u001b[0m\u001b[0m\n\u001b[1;32m    143\u001b[0m         \u001b[0mV_solution\u001b[0m\u001b[0;34m,\u001b[0m \u001b[0mC_solution\u001b[0m \u001b[0;34m=\u001b[0m \u001b[0mdict\u001b[0m\u001b[0;34m(\u001b[0m\u001b[0;34m)\u001b[0m\u001b[0;34m,\u001b[0m \u001b[0mdict\u001b[0m\u001b[0;34m(\u001b[0m\u001b[0;34m)\u001b[0m\u001b[0;34m\u001b[0m\u001b[0;34m\u001b[0m\u001b[0m\n",
      "\u001b[0;31mNameError\u001b[0m: name 'create_statespace' is not defined"
     ]
    }
   ],
   "source": [
    "m = Model()\n",
    "m.solve(par)"
   ]
  },
  {
   "cell_type": "code",
   "execution_count": null,
   "metadata": {},
   "outputs": [],
   "source": [
    "from modules.stategrid import create_statespace\n",
    "\n",
    "s = create_statespace(par)\n",
    "m = Model()\n",
    "init_V = m.initialize_Vstar(s, par)\n",
    "interp = m.create_interp(s, init_V)\n",
    "assert interp(s[30]) ==  init_V[30]\n"
   ]
  },
  {
   "cell_type": "code",
   "execution_count": null,
   "metadata": {},
   "outputs": [],
   "source": [
    "interp"
   ]
  },
  {
   "cell_type": "code",
   "execution_count": null,
   "metadata": {},
   "outputs": [],
   "source": [
    "s[1]"
   ]
  },
  {
   "cell_type": "code",
   "execution_count": null,
   "metadata": {},
   "outputs": [],
   "source": [
    "interp((10.123, 1, -1.123))"
   ]
  },
  {
   "cell_type": "code",
   "execution_count": null,
   "metadata": {},
   "outputs": [],
   "source": [
    "s[1]"
   ]
  },
  {
   "cell_type": "code",
   "execution_count": null,
   "metadata": {},
   "outputs": [],
   "source": [
    "m, f, p = s[:, 0], s[:, 1], s[:, 2]"
   ]
  },
  {
   "cell_type": "code",
   "execution_count": null,
   "metadata": {},
   "outputs": [],
   "source": [
    "init_V"
   ]
  },
  {
   "cell_type": "code",
   "execution_count": null,
   "metadata": {},
   "outputs": [],
   "source": [
    "m.size"
   ]
  },
  {
   "cell_type": "code",
   "execution_count": null,
   "metadata": {},
   "outputs": [],
   "source": [
    "interp_3d(m, f, p, init_V, 10.0, 0.0, 3.0)"
   ]
  },
  {
   "cell_type": "code",
   "execution_count": null,
   "metadata": {},
   "outputs": [],
   "source": [
    "k = np.array(f, dtype=np.double)"
   ]
  },
  {
   "cell_type": "code",
   "execution_count": null,
   "metadata": {},
   "outputs": [],
   "source": [
    "k.dtype"
   ]
  },
  {
   "cell_type": "code",
   "execution_count": null,
   "metadata": {},
   "outputs": [],
   "source": [
    "LinearNDInterpolator(s, Vstar)"
   ]
  },
  {
   "cell_type": "code",
   "execution_count": null,
   "metadata": {},
   "outputs": [],
   "source": [
    "RegularGridInterpolator(s, init_V)"
   ]
  },
  {
   "cell_type": "code",
   "execution_count": null,
   "metadata": {},
   "outputs": [],
   "source": [
    "def fu(x,y,z):\n",
    "    return 2 * x**3 + 3 * y**2 - z\n",
    "x = np.linspace(-1, 4, 20)\n",
    "y = np.linspace(4, 7, 20)\n",
    "z = np.linspace(7, 9, 20)\n",
    "data = fu(*np.meshgrid(x, y, z, indexing='ij', sparse=True))"
   ]
  },
  {
   "cell_type": "code",
   "execution_count": null,
   "metadata": {},
   "outputs": [],
   "source": [
    "data.shape"
   ]
  },
  {
   "cell_type": "code",
   "execution_count": null,
   "metadata": {},
   "outputs": [],
   "source": [
    "my_interpolating_function = RegularGridInterpolator((x, y, z), data, fill_value=None, bounds_error=False)"
   ]
  },
  {
   "cell_type": "code",
   "execution_count": null,
   "metadata": {},
   "outputs": [],
   "source": [
    "pts = np.array([1.1, 3.2, 8.3])\n",
    "my_interpolating_function(pts)"
   ]
  },
  {
   "cell_type": "code",
   "execution_count": null,
   "metadata": {},
   "outputs": [],
   "source": [
    "@njit\n",
    "def some_jit_func(x, y, z):\n",
    "    my_interpolating_function(x, y, z)\n",
    "    "
   ]
  },
  {
   "cell_type": "code",
   "execution_count": null,
   "metadata": {},
   "outputs": [],
   "source": [
    "some_jit_func(2.1, 2.1, 3.4)"
   ]
  },
  {
   "cell_type": "code",
   "execution_count": null,
   "metadata": {},
   "outputs": [],
   "source": [
    "data = fu(*np.meshgrid(x, y, z, indexing='ij', sparse=True))\n",
    "interp_3d(x, y, z, data, 10.0, 20.0, 3.0)"
   ]
  },
  {
   "cell_type": "code",
   "execution_count": null,
   "metadata": {},
   "outputs": [],
   "source": [
    "@njit\n",
    "def interpolate(x, y, z, values, x_i, y_i, z_i):\n",
    "    interp = lambda x_i, y_i, z_i : interp_3d(x, y, x, values, x_i, y_i, z_i)\n",
    "    return interp"
   ]
  },
  {
   "cell_type": "code",
   "execution_count": 84,
   "metadata": {},
   "outputs": [],
   "source": [
    "from numba import int32, float64, jitclass, jit    # import the types\n",
    "\n",
    "spec = [\n",
    "    ('grid1', float64[:]),\n",
    "    ('grid2', float64[:]),\n",
    "    ('grid3', float64[:]),\n",
    "    ('values', float64[:, :, :])\n",
    "]\n",
    "\n",
    "@jitclass(spec)\n",
    "class Interpolate3D(object):\n",
    "    def __init__(self, grid1, grid2, grid3, values):\n",
    "        self.grid1 = grid1\n",
    "        self.grid2 = grid2\n",
    "        self.grid3 = grid3\n",
    "        self.values = values\n",
    "    \n",
    "    def interpolate(self, x_i, y_i, z_i):\n",
    "        return interp_3d(self.grid1, self.grid2, self.grid3, self.values, x_i, y_i, z_i)\n"
   ]
  },
  {
   "cell_type": "code",
   "execution_count": null,
   "metadata": {},
   "outputs": [],
   "source": [
    "@njit\n",
    "def funcy(interp_class, x_i, y_i, z_i):\n",
    "    return interp_3d(interp_class.grid1, interp_class.grid2, interp_class.grid3, interp_class.values, x_i, y_i, z_i)\n"
   ]
  },
  {
   "cell_type": "code",
   "execution_count": null,
   "metadata": {},
   "outputs": [],
   "source": [
    "interp = Interpolate3D(x, y, z, data)"
   ]
  },
  {
   "cell_type": "code",
   "execution_count": null,
   "metadata": {},
   "outputs": [],
   "source": [
    "interp.interpolate(1, 3, 10)"
   ]
  },
  {
   "cell_type": "code",
   "execution_count": null,
   "metadata": {},
   "outputs": [],
   "source": [
    "%time\n",
    "for i in range(100000):\n",
    "    res = funcy(interp, 2, 2, 4)"
   ]
  },
  {
   "cell_type": "code",
   "execution_count": null,
   "metadata": {},
   "outputs": [],
   "source": [
    "@njit\n",
    "def lars(x, y):\n",
    "    f = lambda x: x + y"
   ]
  },
  {
   "cell_type": "code",
   "execution_count": null,
   "metadata": {},
   "outputs": [],
   "source": [
    "@njit\n",
    "def test1(x, y, z, vgrid):\n",
    "    for i in range(1):\n",
    "        x_i, y_i, z_i = -8, -2, 4\n",
    "        res = interp_3d(x, y, z, vgrid, x_i, y_i, z_i)\n",
    "        print(res)\n",
    "    \n",
    "my_interpolating_function = RegularGridInterpolator((x, y, z), data, fill_value=None, bounds_error=False)\n",
    "@jit\n",
    "def test2():\n",
    "    for i in range(1):\n",
    "        x_i, y_i, z_i = -8, -2, 4\n",
    "        res = my_interpolating_function(np.array([x_i, y_i, z_i]))\n",
    "        print(res)"
   ]
  },
  {
   "cell_type": "code",
   "execution_count": null,
   "metadata": {},
   "outputs": [],
   "source": [
    "%%time\n",
    "test1(x, y, z, data)"
   ]
  },
  {
   "cell_type": "code",
   "execution_count": null,
   "metadata": {},
   "outputs": [],
   "source": [
    "%%time\n",
    "test2()"
   ]
  },
  {
   "cell_type": "code",
   "execution_count": null,
   "metadata": {},
   "outputs": [],
   "source": [
    "m, f, p = s[:, 0], s[:, 1], s[:, 2]\n",
    "\n",
    "\n",
    "@njit\n",
    "def test1(x, y, z, vgrid):\n",
    "    for i in range(1):\n",
    "        x_i, y_i, z_i = -8, -2, 4\n",
    "        res = interp_3d(x, y, z, vgrid, x_i, y_i, z_i)\n",
    "        print(res)\n",
    "    \n",
    "my_interpolating_function = RegularGridInterpolator((x, y, z), data, fill_value=None, bounds_error=False)\n",
    "@jit\n",
    "def test2():\n",
    "    for i in range(1):\n",
    "        x_i, y_i, z_i = -8, -2, 4\n",
    "        res = my_interpolating_function(np.array([x_i, y_i, z_i]))\n",
    "        print(res)"
   ]
  },
  {
   "cell_type": "code",
   "execution_count": null,
   "metadata": {},
   "outputs": [],
   "source": []
  },
  {
   "cell_type": "code",
   "execution_count": null,
   "metadata": {},
   "outputs": [],
   "source": []
  },
  {
   "cell_type": "code",
   "execution_count": null,
   "metadata": {},
   "outputs": [],
   "source": [
    "p"
   ]
  },
  {
   "cell_type": "code",
   "execution_count": null,
   "metadata": {},
   "outputs": [],
   "source": [
    "a, b, c = np.linspace(10,20), np.linspace(0, 10), np.linspace(20, 30 ,num=20)"
   ]
  },
  {
   "cell_type": "code",
   "execution_count": null,
   "metadata": {},
   "outputs": [],
   "source": [
    "h = np.meshgrid(a, b)"
   ]
  },
  {
   "cell_type": "code",
   "execution_count": null,
   "metadata": {},
   "outputs": [],
   "source": [
    "def func(a, b):\n",
    "    return a * b - b"
   ]
  },
  {
   "cell_type": "code",
   "execution_count": null,
   "metadata": {},
   "outputs": [],
   "source": [
    "func(*h)"
   ]
  },
  {
   "cell_type": "code",
   "execution_count": null,
   "metadata": {},
   "outputs": [],
   "source": [
    "from collections import namedtuple"
   ]
  },
  {
   "cell_type": "code",
   "execution_count": null,
   "metadata": {},
   "outputs": [],
   "source": [
    "nt = namedtuple('nt', ['a', 'b'])"
   ]
  },
  {
   "cell_type": "code",
   "execution_count": null,
   "metadata": {},
   "outputs": [],
   "source": [
    "hh = nt(1, 2)\n",
    "hh2 = (1, 2)"
   ]
  },
  {
   "cell_type": "code",
   "execution_count": null,
   "metadata": {},
   "outputs": [],
   "source": [
    "@njit\n",
    "def solve_fast(t1, t2):\n",
    "    return t1 + t2"
   ]
  },
  {
   "cell_type": "code",
   "execution_count": null,
   "metadata": {},
   "outputs": [],
   "source": [
    "solve_fast(1, 2)"
   ]
  },
  {
   "cell_type": "code",
   "execution_count": null,
   "metadata": {},
   "outputs": [],
   "source": [
    "def utility(c, par):\n",
    "    return c**(1/2)\n",
    "\n",
    "def T_max_utility(m, f, p, par):\n",
    "    return utility(m, t, par)"
   ]
  },
  {
   "cell_type": "code",
   "execution_count": null,
   "metadata": {},
   "outputs": [],
   "source": [
    "res = T_max_utility(*np.meshgrid(a, b, c, indexing='ij'), par=par)"
   ]
  },
  {
   "cell_type": "code",
   "execution_count": null,
   "metadata": {},
   "outputs": [],
   "source": []
  },
  {
   "cell_type": "code",
   "execution_count": null,
   "metadata": {},
   "outputs": [],
   "source": [
    "from functools import partial"
   ]
  },
  {
   "cell_type": "code",
   "execution_count": null,
   "metadata": {},
   "outputs": [],
   "source": [
    "partial()"
   ]
  },
  {
   "cell_type": "code",
   "execution_count": null,
   "metadata": {},
   "outputs": [],
   "source": [
    "np.empty(shape=(10, 10 ,10))"
   ]
  },
  {
   "cell_type": "code",
   "execution_count": null,
   "metadata": {},
   "outputs": [],
   "source": [
    "l = np.linspace(10, 10).shape[0]"
   ]
  },
  {
   "cell_type": "code",
   "execution_count": null,
   "metadata": {},
   "outputs": [],
   "source": [
    "import pickle\n",
    "pickle.loads(pickle.dumps(l))"
   ]
  },
  {
   "cell_type": "code",
   "execution_count": null,
   "metadata": {},
   "outputs": [],
   "source": [
    "d_, j_ = np.array([1,2,3]), np.array([4, 5])"
   ]
  },
  {
   "cell_type": "code",
   "execution_count": null,
   "metadata": {},
   "outputs": [],
   "source": [
    "dd, jj = np.meshgrid(d, j, indexing='ij')"
   ]
  },
  {
   "cell_type": "code",
   "execution_count": null,
   "metadata": {},
   "outputs": [],
   "source": [
    "for i in range(len(d_)):\n",
    "    for j in range(len(j_)):\n",
    "        print(jj[i,j])\n",
    "    "
   ]
  },
  {
   "cell_type": "code",
   "execution_count": 7,
   "metadata": {},
   "outputs": [],
   "source": [
    "def utility(c, kappa, i):\n",
    "    return c * kappa * i"
   ]
  },
  {
   "cell_type": "code",
   "execution_count": 8,
   "metadata": {},
   "outputs": [],
   "source": [
    "kappas = np.array([0.0, 0.55])\n",
    "iss = np.array([0, 1])"
   ]
  },
  {
   "cell_type": "code",
   "execution_count": 10,
   "metadata": {},
   "outputs": [
    {
     "name": "stdout",
     "output_type": "stream",
     "text": [
      "-55.00000000000001 (100.0, 0.55, 1)\n"
     ]
    }
   ],
   "source": [
    "V, C = np.inf, None\n",
    "for kappa in np.array([0.0, 0.55]):\n",
    "    for i in np.array([0, 1]):\n",
    "        _utility = lambda x: - utility(x, kappa, i)\n",
    "        sol = minimize(fun=_utility, x0=[0.1], bounds=[(0.1, 100.0)])\n",
    "        _V, _C = sol.fun[0], (sol.x[0], kappa, i)\n",
    "        if V > _V:\n",
    "            V, C = _V, _C\n",
    "\n",
    "print(V, C)"
   ]
  },
  {
   "cell_type": "code",
   "execution_count": null,
   "metadata": {},
   "outputs": [],
   "source": [
    "for i in np.random.randint(0, 10, size=(5, 6, 7)):\n",
    "    "
   ]
  },
  {
   "cell_type": "code",
   "execution_count": null,
   "metadata": {},
   "outputs": [],
   "source": []
  },
  {
   "cell_type": "code",
   "execution_count": null,
   "metadata": {},
   "outputs": [],
   "source": [
    "aa, bb, cc = np.meshgrid(a, b, c, indexing='ij')"
   ]
  },
  {
   "cell_type": "code",
   "execution_count": null,
   "metadata": {},
   "outputs": [],
   "source": [
    "for i in range(aa.size):\n",
    "    print(aa[i], bb[i], cc[i])"
   ]
  },
  {
   "cell_type": "code",
   "execution_count": null,
   "metadata": {},
   "outputs": [],
   "source": [
    "aa.shape"
   ]
  },
  {
   "cell_type": "code",
   "execution_count": 3,
   "metadata": {},
   "outputs": [],
   "source": [
    "from modules.stategrid import create_statespace"
   ]
  },
  {
   "cell_type": "code",
   "execution_count": 11,
   "metadata": {},
   "outputs": [],
   "source": [
    "from modules.stategrid import create_grids"
   ]
  },
  {
   "cell_type": "code",
   "execution_count": 71,
   "metadata": {},
   "outputs": [],
   "source": [
    "par.Nm, par.Nf, par.Np  = 40, 25, 25\n",
    "sp = create_statespace(par) #statespace\n",
    "m_grid, f_grid, p_grid = create_grids(par)"
   ]
  },
  {
   "cell_type": "code",
   "execution_count": 72,
   "metadata": {},
   "outputs": [],
   "source": [
    "v = utility(*sp.T)#vstar"
   ]
  },
  {
   "cell_type": "code",
   "execution_count": 147,
   "metadata": {},
   "outputs": [],
   "source": [
    "def create_lookup_dict(statespace, Vstar):\n",
    "    d = dict()\n",
    "    for i in range(statespace.shape[0]):\n",
    "        key, value = statespace[i], Vstar[i]\n",
    "        d[tuple(key)] = value\n",
    "    return d"
   ]
  },
  {
   "cell_type": "code",
   "execution_count": 154,
   "metadata": {},
   "outputs": [],
   "source": [
    "ld = create_lookup_dict(sp, v)"
   ]
  },
  {
   "cell_type": "code",
   "execution_count": 155,
   "metadata": {},
   "outputs": [],
   "source": [
    "def create_mesh(m_grid, f_grid, p_grid, lookup_dict, par):\n",
    "    res = np.empty(shape=(par.Nm, par.Nf, par.Np))\n",
    "    \n",
    "    for m_ix in range(par.Nm):\n",
    "        for f_ix in range(par.Nf):\n",
    "            for p_ix in range(par.Np):\n",
    "                tup = (m_grid[m_ix], f_grid[f_ix], p_grid[p_ix])\n",
    "                res[m_ix, f_ix, p_ix] = lookup_dict[tup]\n",
    "                \n",
    "    return res"
   ]
  },
  {
   "cell_type": "code",
   "execution_count": 158,
   "metadata": {},
   "outputs": [
    {
     "name": "stdout",
     "output_type": "stream",
     "text": [
      "CPU times: user 81.8 ms, sys: 5.41 ms, total: 87.2 ms\n",
      "Wall time: 88.7 ms\n"
     ]
    }
   ],
   "source": [
    "%%time\n",
    "ld = create_lookup_dict(sp, v)\n",
    "create_mesh(m_grid, f_grid, p_grid, ld, par)"
   ]
  },
  {
   "cell_type": "code",
   "execution_count": 90,
   "metadata": {},
   "outputs": [],
   "source": [
    "VVstar = create_mesh(m_grid, f_grid, p_grid, par)"
   ]
  },
  {
   "cell_type": "markdown",
   "metadata": {},
   "source": [
    "from numba import int32, float64, jitclass, jit    # import the types\n",
    "\n",
    "spec = [\n",
    "    ('grid1', float64[:]),\n",
    "    ('grid2', float64[:]),\n",
    "    ('grid3', float64[:]),\n",
    "    ('values', float64[:, :, :])\n",
    "]\n",
    "\n",
    "@jitclass(spec)\n",
    "class Interpolate3D(object):\n",
    "    def __init__(self, grid1, grid2, grid3, values):\n",
    "        self.grid1 = grid1\n",
    "        self.grid2 = grid2\n",
    "        self.grid3 = grid3\n",
    "        self.values = values\n",
    "    \n",
    "    def interpolate(self, x_i, y_i, z_i):\n",
    "        return interp_3d(self.grid1, self.grid2, self.grid3, self.values, x_i, y_i, z_i)\n"
   ]
  },
  {
   "cell_type": "code",
   "execution_count": 105,
   "metadata": {},
   "outputs": [],
   "source": [
    "my_interp1 = RegularGridInterpolator((m_grid, f_grid, p_grid), VVstar, fill_value=None, bounds_error=False)\n",
    "my_interp2 = Interpolate3D(m_grid, f_grid, p_grid, VVstar)\n",
    "\n",
    "##"
   ]
  },
  {
   "cell_type": "code",
   "execution_count": 106,
   "metadata": {},
   "outputs": [
    {
     "data": {
      "text/plain": [
       "-33.597894663863286"
      ]
     },
     "execution_count": 106,
     "metadata": {},
     "output_type": "execute_result"
    }
   ],
   "source": [
    "d[tuple(sp[100])]"
   ]
  },
  {
   "cell_type": "code",
   "execution_count": 109,
   "metadata": {},
   "outputs": [
    {
     "data": {
      "text/plain": [
       "array(-33.59789466)"
      ]
     },
     "execution_count": 109,
     "metadata": {},
     "output_type": "execute_result"
    }
   ],
   "source": [
    "\n",
    "_m, _f, _p = tuple(sp[100])\n"
   ]
  },
  {
   "cell_type": "code",
   "execution_count": 116,
   "metadata": {},
   "outputs": [],
   "source": [
    "def t1():\n",
    "    for i in range(10000):\n",
    "        my_interp1((_m, _f, _p))\n",
    "\n",
    "def t2():\n",
    "    for i in range(10000):\n",
    "        my_interp2.interpolate(_m, _f, _p)"
   ]
  },
  {
   "cell_type": "code",
   "execution_count": 127,
   "metadata": {},
   "outputs": [
    {
     "name": "stdout",
     "output_type": "stream",
     "text": [
      "CPU times: user 15.6 ms, sys: 205 µs, total: 15.8 ms\n",
      "Wall time: 16 ms\n"
     ]
    }
   ],
   "source": [
    "%%time \n",
    "t2()"
   ]
  },
  {
   "cell_type": "code",
   "execution_count": 135,
   "metadata": {},
   "outputs": [
    {
     "data": {
      "text/plain": [
       "245.99999999999457"
      ]
     },
     "execution_count": 135,
     "metadata": {},
     "output_type": "execute_result"
    }
   ],
   "source": [
    "my_interp2.interpolate(2,123,1)"
   ]
  },
  {
   "cell_type": "code",
   "execution_count": 66,
   "metadata": {},
   "outputs": [
    {
     "name": "stdout",
     "output_type": "stream",
     "text": [
      "10.079368399158986 1.3333333333333333 3.333333333333334\n"
     ]
    }
   ],
   "source": [
    "print(_m, _f, _p)"
   ]
  },
  {
   "cell_type": "code",
   "execution_count": 26,
   "metadata": {},
   "outputs": [],
   "source": [
    "def mesh_lookup(m, f, p):\n",
    "    print(m)\n",
    "    #print(m, f, p)\n",
    "    return d[tuple(m, f, p)]"
   ]
  },
  {
   "cell_type": "code",
   "execution_count": 27,
   "metadata": {},
   "outputs": [
    {
     "name": "stdout",
     "output_type": "stream",
     "text": [
      "[[[1.00793684e+01 1.00793684e+01 1.00793684e+01 1.00793684e+01]\n",
      "  [1.00793684e+01 1.00793684e+01 1.00793684e+01 1.00793684e+01]\n",
      "  [1.00793684e+01 1.00793684e+01 1.00793684e+01 1.00793684e+01]\n",
      "  [1.00793684e+01 1.00793684e+01 1.00793684e+01 1.00793684e+01]]\n",
      "\n",
      " [[1.64953382e+04 1.64953382e+04 1.64953382e+04 1.64953382e+04]\n",
      "  [1.64953382e+04 1.64953382e+04 1.64953382e+04 1.64953382e+04]\n",
      "  [1.64953382e+04 1.64953382e+04 1.64953382e+04 1.64953382e+04]\n",
      "  [1.64953382e+04 1.64953382e+04 1.64953382e+04 1.64953382e+04]]\n",
      "\n",
      " [[1.38030186e+05 1.38030186e+05 1.38030186e+05 1.38030186e+05]\n",
      "  [1.38030186e+05 1.38030186e+05 1.38030186e+05 1.38030186e+05]\n",
      "  [1.38030186e+05 1.38030186e+05 1.38030186e+05 1.38030186e+05]\n",
      "  [1.38030186e+05 1.38030186e+05 1.38030186e+05 1.38030186e+05]]\n",
      "\n",
      " [[5.00000000e+05 5.00000000e+05 5.00000000e+05 5.00000000e+05]\n",
      "  [5.00000000e+05 5.00000000e+05 5.00000000e+05 5.00000000e+05]\n",
      "  [5.00000000e+05 5.00000000e+05 5.00000000e+05 5.00000000e+05]\n",
      "  [5.00000000e+05 5.00000000e+05 5.00000000e+05 5.00000000e+05]]]\n"
     ]
    },
    {
     "ename": "TypeError",
     "evalue": "tuple expected at most 1 arguments, got 3",
     "output_type": "error",
     "traceback": [
      "\u001b[0;31m---------------------------------------------------------------------------\u001b[0m",
      "\u001b[0;31mTypeError\u001b[0m                                 Traceback (most recent call last)",
      "\u001b[0;32m<ipython-input-27-1677c6359c70>\u001b[0m in \u001b[0;36m<module>\u001b[0;34m\u001b[0m\n\u001b[0;32m----> 1\u001b[0;31m \u001b[0mmesh_lookup\u001b[0m\u001b[0;34m(\u001b[0m\u001b[0;34m*\u001b[0m\u001b[0mnp\u001b[0m\u001b[0;34m.\u001b[0m\u001b[0mmeshgrid\u001b[0m\u001b[0;34m(\u001b[0m\u001b[0mm_grid\u001b[0m\u001b[0;34m,\u001b[0m \u001b[0mf_grid\u001b[0m\u001b[0;34m,\u001b[0m \u001b[0mp_grid\u001b[0m\u001b[0;34m,\u001b[0m \u001b[0mindexing\u001b[0m\u001b[0;34m=\u001b[0m\u001b[0;34m'ij'\u001b[0m\u001b[0;34m)\u001b[0m\u001b[0;34m)\u001b[0m\u001b[0;34m\u001b[0m\u001b[0;34m\u001b[0m\u001b[0m\n\u001b[0m",
      "\u001b[0;32m<ipython-input-26-4f098f1d36ec>\u001b[0m in \u001b[0;36mmesh_lookup\u001b[0;34m(m, f, p)\u001b[0m\n\u001b[1;32m      2\u001b[0m     \u001b[0mprint\u001b[0m\u001b[0;34m(\u001b[0m\u001b[0mm\u001b[0m\u001b[0;34m)\u001b[0m\u001b[0;34m\u001b[0m\u001b[0;34m\u001b[0m\u001b[0m\n\u001b[1;32m      3\u001b[0m     \u001b[0;31m#print(m, f, p)\u001b[0m\u001b[0;34m\u001b[0m\u001b[0;34m\u001b[0m\u001b[0;34m\u001b[0m\u001b[0m\n\u001b[0;32m----> 4\u001b[0;31m     \u001b[0;32mreturn\u001b[0m \u001b[0md\u001b[0m\u001b[0;34m[\u001b[0m\u001b[0mtuple\u001b[0m\u001b[0;34m(\u001b[0m\u001b[0mm\u001b[0m\u001b[0;34m,\u001b[0m \u001b[0mf\u001b[0m\u001b[0;34m,\u001b[0m \u001b[0mp\u001b[0m\u001b[0;34m)\u001b[0m\u001b[0;34m]\u001b[0m\u001b[0;34m\u001b[0m\u001b[0;34m\u001b[0m\u001b[0m\n\u001b[0m",
      "\u001b[0;31mTypeError\u001b[0m: tuple expected at most 1 arguments, got 3"
     ]
    }
   ],
   "source": [
    "mesh_lookup(*np.meshgrid(m_grid, f_grid, p_grid, indexing='ij'))"
   ]
  },
  {
   "cell_type": "code",
   "execution_count": 41,
   "metadata": {},
   "outputs": [
    {
     "data": {
      "text/plain": [
       "array([1.00793684e+01, 1.64953382e+04, 1.38030186e+05, 5.00000000e+05])"
      ]
     },
     "execution_count": 41,
     "metadata": {},
     "output_type": "execute_result"
    }
   ],
   "source": [
    "m_grid"
   ]
  },
  {
   "cell_type": "code",
   "execution_count": 159,
   "metadata": {},
   "outputs": [
    {
     "data": {
      "text/plain": [
       "25"
      ]
     },
     "execution_count": 159,
     "metadata": {},
     "output_type": "execute_result"
    }
   ],
   "source": [
    "@njit\n",
    "def can_take_class(par):\n",
    "    return par.Nf\n",
    "\n",
    "can_take_class(par)"
   ]
  },
  {
   "cell_type": "code",
   "execution_count": 161,
   "metadata": {},
   "outputs": [
    {
     "data": {
      "text/plain": [
       "dtype('float64')"
      ]
     },
     "execution_count": 161,
     "metadata": {},
     "output_type": "execute_result"
    }
   ],
   "source": [
    "np.array([1, 2, 3.2]).dtype"
   ]
  },
  {
   "cell_type": "code",
   "execution_count": 163,
   "metadata": {},
   "outputs": [],
   "source": [
    "from numba import types"
   ]
  },
  {
   "cell_type": "code",
   "execution_count": 164,
   "metadata": {},
   "outputs": [
    {
     "data": {
      "text/plain": [
       "['__name__',\n",
       " '__doc__',\n",
       " '__package__',\n",
       " '__loader__',\n",
       " '__spec__',\n",
       " '__path__',\n",
       " '__file__',\n",
       " '__cached__',\n",
       " '__builtins__',\n",
       " 'print_function',\n",
       " 'division',\n",
       " 'absolute_import',\n",
       " 'struct',\n",
       " 'np',\n",
       " 'utils',\n",
       " 'abstract',\n",
       " 'ABCMeta',\n",
       " 'abstractmethod',\n",
       " 'abstractproperty',\n",
       " 'itertools',\n",
       " 'weakref',\n",
       " 'add_metaclass',\n",
       " 'cached_property',\n",
       " 'Type',\n",
       " 'Dummy',\n",
       " 'Hashable',\n",
       " 'Number',\n",
       " 'Callable',\n",
       " 'DTypeSpec',\n",
       " 'IterableType',\n",
       " 'Sized',\n",
       " 'ConstSized',\n",
       " 'IteratorType',\n",
       " 'Container',\n",
       " 'Sequence',\n",
       " 'MutableSequence',\n",
       " 'ArrayCompatible',\n",
       " 'Literal',\n",
       " 'TypeRef',\n",
       " 'common',\n",
       " 'misc',\n",
       " 'containers',\n",
       " 'Opaque',\n",
       " 'SimpleIterableType',\n",
       " 'SimpleIteratorType',\n",
       " 'Buffer',\n",
       " 'Undefined',\n",
       " 'unliteral',\n",
       " 'Conversion',\n",
       " 'TypingError',\n",
       " 'Pair',\n",
       " 'BaseContainerIterator',\n",
       " 'BaseContainerPayload',\n",
       " 'Bytes',\n",
       " 'ByteArray',\n",
       " 'PyArray',\n",
       " 'MemoryView',\n",
       " 'is_homogeneous',\n",
       " 'BaseTuple',\n",
       " 'BaseAnonymousTuple',\n",
       " 'UniTuple',\n",
       " 'UniTupleIter',\n",
       " 'Tuple',\n",
       " 'BaseNamedTuple',\n",
       " 'NamedUniTuple',\n",
       " 'NamedTuple',\n",
       " 'List',\n",
       " 'ListIter',\n",
       " 'ListPayload',\n",
       " 'Set',\n",
       " 'SetIter',\n",
       " 'SetPayload',\n",
       " 'SetEntry',\n",
       " 'DictType',\n",
       " 'DictItemsIterableType',\n",
       " 'DictKeysIterableType',\n",
       " 'DictValuesIterableType',\n",
       " 'DictIteratorType',\n",
       " 'functions',\n",
       " 'traceback',\n",
       " 'inspect',\n",
       " 'sys',\n",
       " 'Loc',\n",
       " 'errors',\n",
       " 'BaseFunction',\n",
       " 'Function',\n",
       " 'BoundFunction',\n",
       " 'MakeFunctionLiteral',\n",
       " 'WeakType',\n",
       " 'Dispatcher',\n",
       " 'ObjModeDispatcher',\n",
       " 'ExternalFunctionPointer',\n",
       " 'ExternalFunction',\n",
       " 'NamedTupleClass',\n",
       " 'NumberClass',\n",
       " 'RecursiveCall',\n",
       " 'iterators',\n",
       " 'RangeType',\n",
       " 'RangeIteratorType',\n",
       " 'Generator',\n",
       " 'EnumerateType',\n",
       " 'ZipType',\n",
       " 'ArrayIterator',\n",
       " 'LiteralTypingError',\n",
       " 'PyObject',\n",
       " 'Phantom',\n",
       " 'RawPointer',\n",
       " 'StringLiteral',\n",
       " 'literal',\n",
       " 'maybe_literal',\n",
       " 'Omitted',\n",
       " 'VarArg',\n",
       " 'Module',\n",
       " 'Macro',\n",
       " 'MemInfoPointer',\n",
       " 'CPointer',\n",
       " 'EphemeralPointer',\n",
       " 'EphemeralArray',\n",
       " 'Object',\n",
       " 'Optional',\n",
       " 'NoneType',\n",
       " 'EllipsisType',\n",
       " 'ExceptionClass',\n",
       " 'ExceptionInstance',\n",
       " 'SliceType',\n",
       " 'SliceLiteral',\n",
       " 'ClassInstanceType',\n",
       " 'ClassType',\n",
       " 'DeferredType',\n",
       " 'ClassDataType',\n",
       " 'ContextManager',\n",
       " 'UnicodeType',\n",
       " 'npytypes',\n",
       " 'collections',\n",
       " 'ir',\n",
       " 'CharSeq',\n",
       " 'UnicodeCharSeq',\n",
       " 'Record',\n",
       " 'DType',\n",
       " 'NumpyFlatType',\n",
       " 'NumpyNdEnumerateType',\n",
       " 'NumpyNdIterType',\n",
       " 'NumpyNdIndexType',\n",
       " 'Array',\n",
       " 'SmartArrayType',\n",
       " 'ArrayCTypes',\n",
       " 'ArrayFlags',\n",
       " 'NestedArray',\n",
       " 'scalars',\n",
       " 'enum',\n",
       " 'npdatetime',\n",
       " 'Boolean',\n",
       " 'parse_integer_bitwidth',\n",
       " 'parse_integer_signed',\n",
       " 'Integer',\n",
       " 'IntegerLiteral',\n",
       " 'Float',\n",
       " 'Complex',\n",
       " 'NPTimedelta',\n",
       " 'NPDatetime',\n",
       " 'EnumClass',\n",
       " 'IntEnumClass',\n",
       " 'EnumMember',\n",
       " 'IntEnumMember',\n",
       " 'pyobject',\n",
       " 'ffi_forced_object',\n",
       " 'ffi',\n",
       " 'none',\n",
       " 'ellipsis',\n",
       " 'Any',\n",
       " 'undefined',\n",
       " 'py2_string_type',\n",
       " 'unicode_type',\n",
       " 'string',\n",
       " 'code_type',\n",
       " 'pyfunc_type',\n",
       " 'voidptr',\n",
       " 'boolean',\n",
       " 'bool_',\n",
       " 'byte',\n",
       " 'uint8',\n",
       " 'uint16',\n",
       " 'uint32',\n",
       " 'uint64',\n",
       " 'int8',\n",
       " 'int16',\n",
       " 'int32',\n",
       " 'int64',\n",
       " 'intp',\n",
       " 'uintp',\n",
       " 'intc',\n",
       " 'uintc',\n",
       " 'float32',\n",
       " 'float64',\n",
       " 'complex64',\n",
       " 'complex128',\n",
       " 'range_iter32_type',\n",
       " 'range_iter64_type',\n",
       " 'unsigned_range_iter64_type',\n",
       " 'range_state32_type',\n",
       " 'range_state64_type',\n",
       " 'unsigned_range_state64_type',\n",
       " 'slice2_type',\n",
       " 'slice3_type',\n",
       " 'signed_domain',\n",
       " 'unsigned_domain',\n",
       " 'integer_domain',\n",
       " 'real_domain',\n",
       " 'complex_domain',\n",
       " 'number_domain',\n",
       " 'b1',\n",
       " 'i1',\n",
       " 'i2',\n",
       " 'i4',\n",
       " 'i8',\n",
       " 'u1',\n",
       " 'u2',\n",
       " 'u4',\n",
       " 'u8',\n",
       " 'f4',\n",
       " 'f8',\n",
       " 'c8',\n",
       " 'c16',\n",
       " 'float_',\n",
       " 'double',\n",
       " 'void',\n",
       " '_make_signed',\n",
       " '_make_unsigned',\n",
       " 'char',\n",
       " 'uchar',\n",
       " 'short',\n",
       " 'ushort',\n",
       " 'int_',\n",
       " 'uint',\n",
       " 'long_',\n",
       " 'ulong',\n",
       " 'longlong',\n",
       " 'ulonglong',\n",
       " 'optional',\n",
       " 'deferred_type',\n",
       " '__all__']"
      ]
     },
     "execution_count": 164,
     "metadata": {},
     "output_type": "execute_result"
    }
   ],
   "source": [
    "types.__dir__()"
   ]
  },
  {
   "cell_type": "code",
   "execution_count": null,
   "metadata": {},
   "outputs": [],
   "source": []
  }
 ],
 "metadata": {
  "kernelspec": {
   "display_name": "Python 3 (dypa-termpaper)",
   "language": "python",
   "name": "dypatermpaper"
  },
  "language_info": {
   "codemirror_mode": {
    "name": "ipython",
    "version": 3
   },
   "file_extension": ".py",
   "mimetype": "text/x-python",
   "name": "python",
   "nbconvert_exporter": "python",
   "pygments_lexer": "ipython3",
   "version": "3.7.2"
  }
 },
 "nbformat": 4,
 "nbformat_minor": 2
}

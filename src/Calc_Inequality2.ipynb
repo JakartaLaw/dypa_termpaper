{
 "cells": [
  {
   "cell_type": "markdown",
   "metadata": {},
   "source": [
    "### Load libraries"
   ]
  },
  {
   "cell_type": "code",
   "execution_count": 1,
   "metadata": {},
   "outputs": [],
   "source": [
    "from parameters import parameters as par\n",
    "from model import Model\n",
    "from modules.loader import Loader\n",
    "from simulator import Simulator\n",
    "import pandas as pd\n",
    "import numpy as np\n",
    "import matplotlib.pyplot as plt\n",
    "from modules.agepolynomial import create_age_poly_array\n",
    "#import pickle"
   ]
  },
  {
   "cell_type": "markdown",
   "metadata": {},
   "source": [
    "### Select date and subscript"
   ]
  },
  {
   "cell_type": "code",
   "execution_count": 2,
   "metadata": {},
   "outputs": [],
   "source": [
    "date = '18-05'\n",
    "add_text = 'log_3' # Can be empty, pi_0 (currently only for <HS)\n",
    "educ = ['<HS', 'HS', 'College']\n",
    "NUMBER_OF_PERSONS = 1000"
   ]
  },
  {
   "cell_type": "markdown",
   "metadata": {},
   "source": [
    "### Note:\n",
    "- It is important to change the cost for pi and kappa manually in agent.py such that the costs correspond to the simulated outcome. Unfortunately, these costs weren't stored in the parameters. Keep this in mind. In the ReadMe file in this folder, you can see which costs were chosen."
   ]
  },
  {
   "cell_type": "markdown",
   "metadata": {},
   "source": [
    "### Get solution"
   ]
  },
  {
   "cell_type": "code",
   "execution_count": 3,
   "metadata": {},
   "outputs": [],
   "source": [
    "mean_std = dict()\n",
    "\n",
    "for ed in educ:\n",
    "    mean_std[ed] = []\n",
    "    V_sol, C_sol, par_ = Loader.load('Pickled_Solutions/Run_' + ed + '/' + date + add_text)\n",
    "    states, choices, shocks = Simulator.simulate(V_sol, C_sol, par_, NUMBER_OF_PERSONS)\n",
    "    mean_std[ed].append(states[0,40,:].mean())\n",
    "    mean_std[ed].append(states[0, 40, :].std())"
   ]
  },
  {
   "cell_type": "code",
   "execution_count": 4,
   "metadata": {},
   "outputs": [],
   "source": [
    "data = {\n",
    "    'Education': ['< High School', 'High School', 'College'],\n",
    "    'mean' : [mean_std['<HS'][0], mean_std['HS'][0], mean_std['College'][0]],\n",
    "    'mean - 2 std' : [mean_std['<HS'][0] - 2*mean_std['<HS'][1], mean_std['HS'][0] - 2*mean_std['HS'][1], mean_std['College'][0] - 2*mean_std['College'][1]],\n",
    "    'mean + 2 std' : [mean_std['<HS'][0] + 2*mean_std['<HS'][1], mean_std['HS'][0] + 2*mean_std['HS'][1], mean_std['College'][0] + 2*mean_std['College'][1]],\n",
    "    'Ratio to College': [mean_std['<HS'][0]/mean_std['College'][0], mean_std['HS'][0]/mean_std['College'][0], 1]\n",
    "}\n",
    "data = pd.DataFrame(data).round(2)"
   ]
  },
  {
   "cell_type": "code",
   "execution_count": 5,
   "metadata": {},
   "outputs": [
    {
     "data": {
      "text/html": [
       "<div>\n",
       "<style scoped>\n",
       "    .dataframe tbody tr th:only-of-type {\n",
       "        vertical-align: middle;\n",
       "    }\n",
       "\n",
       "    .dataframe tbody tr th {\n",
       "        vertical-align: top;\n",
       "    }\n",
       "\n",
       "    .dataframe thead th {\n",
       "        text-align: right;\n",
       "    }\n",
       "</style>\n",
       "<table border=\"1\" class=\"dataframe\">\n",
       "  <thead>\n",
       "    <tr style=\"text-align: right;\">\n",
       "      <th></th>\n",
       "      <th>Education</th>\n",
       "      <th>Ratio to College</th>\n",
       "      <th>mean</th>\n",
       "      <th>mean + 2 std</th>\n",
       "      <th>mean - 2 std</th>\n",
       "    </tr>\n",
       "  </thead>\n",
       "  <tbody>\n",
       "    <tr>\n",
       "      <th>0</th>\n",
       "      <td>&lt; High School</td>\n",
       "      <td>0.37</td>\n",
       "      <td>81318.92</td>\n",
       "      <td>93894.91</td>\n",
       "      <td>68742.93</td>\n",
       "    </tr>\n",
       "    <tr>\n",
       "      <th>1</th>\n",
       "      <td>High School</td>\n",
       "      <td>0.59</td>\n",
       "      <td>128635.29</td>\n",
       "      <td>137812.48</td>\n",
       "      <td>119458.10</td>\n",
       "    </tr>\n",
       "    <tr>\n",
       "      <th>2</th>\n",
       "      <td>College</td>\n",
       "      <td>1.00</td>\n",
       "      <td>218440.12</td>\n",
       "      <td>245297.75</td>\n",
       "      <td>191582.50</td>\n",
       "    </tr>\n",
       "  </tbody>\n",
       "</table>\n",
       "</div>"
      ],
      "text/plain": [
       "       Education  Ratio to College       mean  mean + 2 std  mean - 2 std\n",
       "0  < High School              0.37   81318.92      93894.91      68742.93\n",
       "1    High School              0.59  128635.29     137812.48     119458.10\n",
       "2        College              1.00  218440.12     245297.75     191582.50"
      ]
     },
     "execution_count": 5,
     "metadata": {},
     "output_type": "execute_result"
    }
   ],
   "source": [
    "data"
   ]
  },
  {
   "cell_type": "markdown",
   "metadata": {},
   "source": [
    "### Look at wealth divided by average lifetime income"
   ]
  },
  {
   "cell_type": "code",
   "execution_count": 6,
   "metadata": {},
   "outputs": [],
   "source": [
    "wealth_income_ratio = dict()\n",
    "for ed in educ:\n",
    "    wealth_income_ratio[ed] = []\n",
    "    ratio = mean_std[ed][0]/sum(create_age_poly_array(ed))\n",
    "    wealth_income_ratio[ed].append(ratio)"
   ]
  },
  {
   "cell_type": "code",
   "execution_count": 7,
   "metadata": {},
   "outputs": [
    {
     "data": {
      "text/plain": [
       "{'<HS': [0.04566624419600944],\n",
       " 'College': [0.07942939624961669],\n",
       " 'HS': [0.060350599513860514]}"
      ]
     },
     "execution_count": 7,
     "metadata": {},
     "output_type": "execute_result"
    }
   ],
   "source": [
    "wealth_income_ratio"
   ]
  },
  {
   "cell_type": "code",
   "execution_count": 12,
   "metadata": {},
   "outputs": [],
   "source": [
    "wir_fin_model = {'<HS': [0.04566428104709243],\n",
    " 'College': [0.12059184361529693],\n",
    " 'HS': [0.07737256986171517]}"
   ]
  },
  {
   "cell_type": "code",
   "execution_count": 13,
   "metadata": {},
   "outputs": [],
   "source": [
    "wir_buffer = {'<HS': [0.04566624419600944],\n",
    " 'College': [0.07942939624961669],\n",
    " 'HS': [0.060350599513860514]}"
   ]
  },
  {
   "cell_type": "markdown",
   "metadata": {},
   "source": [
    "### Look at pi_0 case"
   ]
  },
  {
   "cell_type": "code",
   "execution_count": 2,
   "metadata": {},
   "outputs": [],
   "source": [
    "date = '20-05'\n",
    "add_text = '300free' # Can be empty, pi_0 (currently only for <HS)\n",
    "educ = ['<HS']\n",
    "NUMBER_OF_PERSONS = 1000 "
   ]
  },
  {
   "cell_type": "code",
   "execution_count": 3,
   "metadata": {},
   "outputs": [],
   "source": [
    "mean_std = dict()\n",
    "\n",
    "for ed in educ:\n",
    "    mean_std[ed] = []\n",
    "    V_sol, C_sol, par_ = Loader.load('Pickled_Solutions/Run_' + ed + '/' + date + add_text)\n",
    "    states, choices, shocks = Simulator.simulate(V_sol, C_sol, par_, NUMBER_OF_PERSONS)\n",
    "    mean_std[ed].append(states[0,40,:].mean())\n",
    "    mean_std[ed].append(states[0, 40, :].std())"
   ]
  },
  {
   "cell_type": "code",
   "execution_count": 6,
   "metadata": {},
   "outputs": [],
   "source": [
    "wealth_300free_lhs = 82352.607073949"
   ]
  },
  {
   "cell_type": "code",
   "execution_count": 7,
   "metadata": {},
   "outputs": [],
   "source": [
    "total_inc_lhs = 1780722.6551226806"
   ]
  },
  {
   "cell_type": "code",
   "execution_count": 8,
   "metadata": {},
   "outputs": [],
   "source": [
    "wealth_pi0_lhs = 111448.14334520085"
   ]
  },
  {
   "cell_type": "code",
   "execution_count": 9,
   "metadata": {},
   "outputs": [],
   "source": [
    "wealth_income_ratio_lhs_300free = wealth_300free_lhs/total_inc_lhs"
   ]
  },
  {
   "cell_type": "code",
   "execution_count": 11,
   "metadata": {},
   "outputs": [],
   "source": [
    "wealth_income_ratio_lhs_pi0 = wealth_pi0_lhs/total_inc_lhs"
   ]
  },
  {
   "cell_type": "code",
   "execution_count": 14,
   "metadata": {},
   "outputs": [],
   "source": [
    "wir_fin_model = {'<HS': [0.04566428104709243],\n",
    " 'College': [0.12059184361529693],\n",
    " 'HS': [0.07737256986171517]}"
   ]
  },
  {
   "cell_type": "code",
   "execution_count": 15,
   "metadata": {},
   "outputs": [],
   "source": [
    "wir_buffer = {'<HS': [0.04566624419600944],\n",
    " 'College': [0.07942939624961669],\n",
    " 'HS': [0.060350599513860514]}"
   ]
  },
  {
   "cell_type": "markdown",
   "metadata": {},
   "source": [
    "### Calculate income ratios"
   ]
  },
  {
   "cell_type": "code",
   "execution_count": 17,
   "metadata": {},
   "outputs": [
    {
     "data": {
      "text/plain": [
       "2.6408352622684146"
      ]
     },
     "execution_count": 17,
     "metadata": {},
     "output_type": "execute_result"
    }
   ],
   "source": [
    "fin_model = 0.12059184361529693/0.04566428104709243\n",
    "fin_model"
   ]
  },
  {
   "cell_type": "code",
   "execution_count": 26,
   "metadata": {},
   "outputs": [],
   "source": [
    "lst = []\n",
    "for i in range(25,65):\n",
    "    lst.append(300*1.02**(65-i))    "
   ]
  },
  {
   "cell_type": "code",
   "execution_count": 27,
   "metadata": {},
   "outputs": [
    {
     "data": {
      "text/plain": [
       "18483.006853307244"
      ]
     },
     "execution_count": 27,
     "metadata": {},
     "output_type": "execute_result"
    }
   ],
   "source": [
    "sum(lst)"
   ]
  },
  {
   "cell_type": "code",
   "execution_count": 21,
   "metadata": {},
   "outputs": [
    {
     "data": {
      "text/plain": [
       "662.4118990844561"
      ]
     },
     "execution_count": 21,
     "metadata": {},
     "output_type": "execute_result"
    }
   ],
   "source": [
    "300*1.02**(65-25)"
   ]
  },
  {
   "cell_type": "code",
   "execution_count": null,
   "metadata": {},
   "outputs": [],
   "source": []
  },
  {
   "cell_type": "code",
   "execution_count": 18,
   "metadata": {},
   "outputs": [
    {
     "data": {
      "text/plain": [
       "1.7393459358884096"
      ]
     },
     "execution_count": 18,
     "metadata": {},
     "output_type": "execute_result"
    }
   ],
   "source": [
    "buffer_model = 0.07942939624961669/0.04566624419600944\n",
    "buffer_model"
   ]
  },
  {
   "cell_type": "code",
   "execution_count": 19,
   "metadata": {},
   "outputs": [
    {
     "data": {
      "text/plain": [
       "1.9268210443275877"
      ]
     },
     "execution_count": 19,
     "metadata": {},
     "output_type": "execute_result"
    }
   ],
   "source": [
    "pi_0_model = 0.12059184361529693/wealth_income_ratio_lhs_pi0\n",
    "pi_0_model"
   ]
  },
  {
   "cell_type": "code",
   "execution_count": 20,
   "metadata": {},
   "outputs": [
    {
     "data": {
      "text/plain": [
       "2.6075753467761262"
      ]
     },
     "execution_count": 20,
     "metadata": {},
     "output_type": "execute_result"
    }
   ],
   "source": [
    "free300_model = 0.12059184361529693/wealth_income_ratio_lhs_300free\n",
    "free300_model"
   ]
  },
  {
   "cell_type": "markdown",
   "metadata": {},
   "source": [
    "# Bar plot"
   ]
  },
  {
   "cell_type": "code",
   "execution_count": 31,
   "metadata": {},
   "outputs": [],
   "source": [
    "# Set path to save picture\n",
    "pic_path = '/Users/ditlevkf/Ditlev/KU/Kandidaten/DP/Projekt/Code/dypa_termpaper/chapters/'"
   ]
  },
  {
   "cell_type": "code",
   "execution_count": 15,
   "metadata": {},
   "outputs": [],
   "source": [
    "buffer_stock_wi = 1.7393459358884096\n",
    "pi_0_wi = 1.9268210204030483\n",
    "fin_lit_wi = 2.6446"
   ]
  },
  {
   "cell_type": "code",
   "execution_count": 16,
   "metadata": {},
   "outputs": [],
   "source": [
    "x = np.arange(3)\n",
    "inequality = [buffer_stock_wi, pi_0_wi, fin_lit_wi]"
   ]
  },
  {
   "cell_type": "code",
   "execution_count": 32,
   "metadata": {},
   "outputs": [
    {
     "data": {
      "image/png": "[encoded data removed]",
      "text/plain": [
       "<matplotlib.figure.Figure at 0x1a23250da0>"
      ]
     },
     "metadata": {},
     "output_type": "display_data"
    }
   ],
   "source": [
    "fig, ax = plt.subplots(figsize = (10,4))\n",
    "plt.bar(x, inequality, color = '#070d0d')\n",
    "plt.xticks(x, ('Buffer-stock', 'Free financial knowledge\\n for <HS', 'Financial mechanism'))\n",
    "plt.ylabel('Wealth-to-income ratio')\n",
    "plt.savefig(pic_path + 'wealth_ineq',bbox_inches='tight')\n",
    "plt.show()"
   ]
  },
  {
   "cell_type": "code",
   "execution_count": null,
   "metadata": {},
   "outputs": [],
   "source": [
    "from matplotlib.ticker import FuncFormatter\n",
    "import matplotlib.pyplot as plt\n",
    "import numpy as np\n",
    "\n",
    "x = np.arange(4)\n",
    "money = [1.5e5, 2.5e6, 5.5e6, 2.0e7]\n",
    "\n",
    "\n",
    "def millions(x, pos):\n",
    "    'The two args are the value and tick position'\n",
    "    return '$%1.1fM' % (x * 1e-6)\n",
    "\n",
    "\n",
    "formatter = FuncFormatter(millions)\n",
    "\n",
    "fig, ax = plt.subplots()\n",
    "ax.yaxis.set_major_formatter(formatter)\n",
    "plt.bar(x, money)\n",
    "plt.xticks(x, ('Bill', 'Fred', 'Mary', 'Sue'))\n",
    "plt.show()"
   ]
  }
 ],
 "metadata": {
  "kernelspec": {
   "display_name": "Python 3",
   "language": "python",
   "name": "python3"
  },
  "language_info": {
   "codemirror_mode": {
    "name": "ipython",
    "version": 3
   },
   "file_extension": ".py",
   "mimetype": "text/x-python",
   "name": "python",
   "nbconvert_exporter": "python",
   "pygments_lexer": "ipython3",
   "version": "3.5.4"
  }
 },
 "nbformat": 4,
 "nbformat_minor": 2
}

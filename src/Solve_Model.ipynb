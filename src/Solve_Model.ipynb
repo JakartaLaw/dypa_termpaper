{
 "cells": [
  {
   "cell_type": "markdown",
   "metadata": {},
   "source": [
    "### Load libraries"
   ]
  },
  {
   "cell_type": "code",
   "execution_count": 1,
   "metadata": {},
   "outputs": [],
   "source": [
    "import agent\n",
    "from model import Model\n",
    "from parameters import parameters as par\n",
    "from modules.utils import Struct # GH functions\n",
    "from collections import namedtuple\n",
    "from modules.stategrid import create_statespace, create_grids\n",
    "import pandas as pd\n",
    "from modules.consumptionpreference import create_consumption_preference_array\n",
    "from modules.agepolynomial import create_age_poly_array\n",
    "import numpy as np\n",
    "from modules import stategrid\n",
    "\n",
    "from modules.loader import Loader\n",
    "\n",
    "# Ignore warnings\n",
    "import warnings\n",
    "warnings.filterwarnings(\"ignore\")"
   ]
  },
  {
   "cell_type": "code",
   "execution_count": 2,
   "metadata": {},
   "outputs": [
    {
     "name": "stdout",
     "output_type": "stream",
     "text": [
      "300\n"
     ]
    },
    {
     "data": {
      "text/plain": [
       "300"
      ]
     },
     "execution_count": 2,
     "metadata": {},
     "output_type": "execute_result"
    }
   ],
   "source": [
    "# Check cost function for acquiring and using technology\n",
    "print(agent.pi(5))\n",
    "agent.kappa_cost(5)"
   ]
  },
  {
   "cell_type": "markdown",
   "metadata": {},
   "source": [
    "### Set start age, education level and date of running the program (for storing solution)"
   ]
  },
  {
   "cell_type": "code",
   "execution_count": null,
   "metadata": {},
   "outputs": [],
   "source": [
    "start_age = 25\n",
    "educ = 'College' # Can be either '<HS', 'HS' or 'College'\n",
    "date = '18-05'\n",
    "add_text = 'log_2'\n",
    "\n",
    "par.start_age = start_age\n",
    "\n",
    "# Change education parameters (age-polynomial income profile and number of children n)\n",
    "par.age_poly = create_age_poly_array(educ)\n",
    "par.n = create_consumption_preference_array(educ)"
   ]
  },
  {
   "cell_type": "markdown",
   "metadata": {},
   "source": [
    "## Solve model"
   ]
  },
  {
   "cell_type": "code",
   "execution_count": null,
   "metadata": {},
   "outputs": [],
   "source": [
    "m = Model()\n",
    "V_sol, C_sol = m.solve(par)"
   ]
  },
  {
   "cell_type": "markdown",
   "metadata": {},
   "source": [
    "## Save model"
   ]
  },
  {
   "cell_type": "code",
   "execution_count": null,
   "metadata": {},
   "outputs": [],
   "source": [
    "folder = 'Pickled_Solutions/Run_' + educ + '/'\n",
    "Loader.save(V_sol, C_sol, par, file_prefix = folder + date + add_text)"
   ]
  },
  {
   "cell_type": "code",
   "execution_count": null,
   "metadata": {},
   "outputs": [],
   "source": [
    "start_age = 25\n",
    "educ = 'HS' # Can be either '<HS', 'HS' or 'College'\n",
    "date = '18-05'\n",
    "add_text = 'log_2'\n",
    "\n",
    "par.start_age = start_age\n",
    "\n",
    "# Change education parameters (age-polynomial income profile and number of children n)\n",
    "par.age_poly = create_age_poly_array(educ)\n",
    "par.n = create_consumption_preference_array(educ)"
   ]
  },
  {
   "cell_type": "code",
   "execution_count": null,
   "metadata": {},
   "outputs": [],
   "source": [
    "m = Model()\n",
    "V_sol, C_sol = m.solve(par)"
   ]
  },
  {
   "cell_type": "code",
   "execution_count": null,
   "metadata": {},
   "outputs": [],
   "source": [
    "folder = 'Pickled_Solutions/Run_' + educ + '/'\n",
    "Loader.save(V_sol, C_sol, par, file_prefix = folder + date + add_text)"
   ]
  },
  {
   "cell_type": "code",
   "execution_count": null,
   "metadata": {},
   "outputs": [],
   "source": [
    "start_age = 25\n",
    "educ = '<HS' # Can be either '<HS', 'HS' or 'College'\n",
    "date = '18-05'\n",
    "add_text = 'log_2'\n",
    "\n",
    "par.start_age = start_age\n",
    "\n",
    "# Change education parameters (age-polynomial income profile and number of children n)\n",
    "par.age_poly = create_age_poly_array(educ)\n",
    "par.n = create_consumption_preference_array(educ)"
   ]
  },
  {
   "cell_type": "code",
   "execution_count": null,
   "metadata": {},
   "outputs": [],
   "source": [
    "m = Model()\n",
    "V_sol, C_sol = m.solve(par)"
   ]
  },
  {
   "cell_type": "code",
   "execution_count": null,
   "metadata": {},
   "outputs": [],
   "source": [
    "folder = 'Pickled_Solutions/Run_' + educ + '/'\n",
    "Loader.save(V_sol, C_sol, par, file_prefix = folder + date + add_text)"
   ]
  },
  {
   "cell_type": "markdown",
   "metadata": {},
   "source": [
    "## Investigate Solution"
   ]
  },
  {
   "cell_type": "code",
   "execution_count": null,
   "metadata": {},
   "outputs": [],
   "source": [
    "date = '18-05'\n",
    "educ = 'College' # Can be either '<HS', 'HS' or 'College'\n",
    "add_text = 'log' # Can be empty, pi_0 (currently only for <HS)\n",
    "V_sol, C_sol, par_ = Loader.load('Pickled_Solutions/Run_' + educ + '/' + date + add_text)"
   ]
  },
  {
   "cell_type": "markdown",
   "metadata": {},
   "source": [
    "### Choose time to investigate solution"
   ]
  },
  {
   "cell_type": "code",
   "execution_count": null,
   "metadata": {},
   "outputs": [],
   "source": [
    "t = 30"
   ]
  },
  {
   "cell_type": "markdown",
   "metadata": {},
   "source": [
    "### Get state space and grids"
   ]
  },
  {
   "cell_type": "code",
   "execution_count": null,
   "metadata": {},
   "outputs": [],
   "source": [
    "statespace = create_statespace(par)\n",
    "m_grid, f_grid, p_grid = [], [], []\n",
    "for i in statespace:\n",
    "    m_grid.append(i[0])\n",
    "    f_grid.append(i[1])\n",
    "    p_grid.append(i[2])\n",
    "statespace = pd.DataFrame(statespace, columns= ['m', 'f', 'p'])"
   ]
  },
  {
   "cell_type": "markdown",
   "metadata": {},
   "source": [
    "### View solution"
   ]
  },
  {
   "cell_type": "code",
   "execution_count": null,
   "metadata": {},
   "outputs": [],
   "source": [
    "view_sol = pd.DataFrame(C_sol[t], columns = ['c', 'k', 'i'])\n",
    "view_sol = view_sol.join(pd.DataFrame(statespace))"
   ]
  },
  {
   "cell_type": "code",
   "execution_count": null,
   "metadata": {},
   "outputs": [],
   "source": [
    "m_sol = view_sol.groupby('m').mean()[['c', 'k', 'i']]\n",
    "m_sol"
   ]
  },
  {
   "cell_type": "code",
   "execution_count": null,
   "metadata": {},
   "outputs": [],
   "source": [
    "f_sol = view_sol.groupby('f').mean()[['c', 'k', 'i']]\n",
    "f_sol"
   ]
  },
  {
   "cell_type": "code",
   "execution_count": null,
   "metadata": {},
   "outputs": [],
   "source": [
    "p_sol = view_sol.groupby('p').mean()[['c', 'k', 'i']]\n",
    "p_sol"
   ]
  },
  {
   "cell_type": "code",
   "execution_count": null,
   "metadata": {},
   "outputs": [],
   "source": [
    "mf_sol = view_sol.groupby(['m', 'f']).mean()[['c', 'k', 'i']]\n",
    "mf_sol"
   ]
  },
  {
   "cell_type": "code",
   "execution_count": null,
   "metadata": {},
   "outputs": [],
   "source": []
  }
 ],
 "metadata": {
  "kernelspec": {
   "display_name": "Python 3",
   "language": "python",
   "name": "python3"
  },
  "language_info": {
   "codemirror_mode": {
    "name": "ipython",
    "version": 3
   },
   "file_extension": ".py",
   "mimetype": "text/x-python",
   "name": "python",
   "nbconvert_exporter": "python",
   "pygments_lexer": "ipython3",
   "version": "3.5.4"
  }
 },
 "nbformat": 4,
 "nbformat_minor": 2
}
